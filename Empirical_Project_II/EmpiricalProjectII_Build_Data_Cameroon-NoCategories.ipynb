{
 "cells": [
  {
   "cell_type": "markdown",
   "id": "0d58dc4d",
   "metadata": {},
   "source": [
    "# Empirical Project 2\n",
    " "
   ]
  },
  {
   "cell_type": "code",
   "execution_count": 1,
   "id": "4d3003d7",
   "metadata": {},
   "outputs": [],
   "source": [
    "%%capture\n",
    "# Capture suppresses output to screen\n",
    "import stata_setup\n",
    "stata_setup.config(\"/Applications/Stata 17\", \"be\")"
   ]
  },
  {
   "cell_type": "code",
   "execution_count": 2,
   "id": "ebf7a8c7",
   "metadata": {},
   "outputs": [
    {
     "name": "stdout",
     "output_type": "stream",
     "text": [
      "\n",
      ". /* Define paths for data and output */\n",
      ". global data \"Data\"\n",
      "\n",
      ". global output \"Output\"\n",
      "\n",
      ". global country \"cameroon\"\n",
      "\n",
      ". \n"
     ]
    }
   ],
   "source": [
    "%%stata\n",
    "/* Define paths for data and output */\n",
    "global data \"Data\"\n",
    "global output \"Output\"\n",
    "global country \"cameroon\""
   ]
  },
  {
   "cell_type": "code",
   "execution_count": 3,
   "id": "0084ad44",
   "metadata": {},
   "outputs": [],
   "source": [
    "%%capture\n",
    "%%stata\n",
    "log using \"$output/empiricalPrjExplore-Cameroon.log\", replace"
   ]
  },
  {
   "cell_type": "markdown",
   "id": "da7f2299",
   "metadata": {},
   "source": [
    "## Open Cameroon's dataset and explore the contents"
   ]
  },
  {
   "cell_type": "code",
   "execution_count": 27,
   "id": "323124fb",
   "metadata": {},
   "outputs": [
    {
     "name": "stdout",
     "output_type": "stream",
     "text": [
      "\n",
      ". import excel \"$data/GYTS_2014_CAMEROON_NATIONAL.XLSX\", ///\n",
      "> sheet(\"GYTS 2014 CAMEROON (NATIONAL) W\") firstrow\n",
      "(46 vars, 2,922 obs)\n",
      "\n",
      ". describe\n",
      "\n",
      "Contains data\n",
      " Observations:         2,922                  \n",
      "    Variables:            46                  \n",
      "-------------------------------------------------------------------------------\n",
      "Variable      Storage   Display    Value\n",
      "    name         type    format    label      Variable label\n",
      "-------------------------------------------------------------------------------\n",
      "FinalWgt        double  %10.0g                FinalWgt\n",
      "CR1             byte    %10.0g                CR1\n",
      "CR2             byte    %10.0g                CR2\n",
      "CMR3            byte    %10.0g                CMR3\n",
      "CMR4            byte    %10.0g                CMR4\n",
      "CR5             byte    %10.0g                CR5\n",
      "CR6             byte    %10.0g                CR6\n",
      "CR7             byte    %10.0g                CR7\n",
      "CR8             byte    %10.0g                CR8\n",
      "CR9             byte    %10.0g                CR9\n",
      "CR10            byte    %10.0g                CR10\n",
      "CR11            byte    %10.0g                CR11\n",
      "CR12            byte    %10.0g                CR12\n",
      "CR13            byte    %10.0g                CR13\n",
      "CR14            byte    %10.0g                CR14\n",
      "CR15            byte    %10.0g                CR15\n",
      "CR16            byte    %10.0g                CR16\n",
      "CR17            byte    %10.0g                CR17\n",
      "CR18            byte    %10.0g                CR18\n",
      "CR19            byte    %10.0g                CR19\n",
      "CR20            byte    %10.0g                CR20\n",
      "CR21            byte    %10.0g                CR21\n",
      "CR22            byte    %10.0g                CR22\n",
      "CR23            byte    %10.0g                CR23\n",
      "CR24            byte    %10.0g                CR24\n",
      "CR25            byte    %10.0g                CR25\n",
      "CR26            byte    %10.0g                CR26\n",
      "CR27            byte    %10.0g                CR27\n",
      "CR28            byte    %10.0g                CR28\n",
      "CMR29           byte    %10.0g                CMR29\n",
      "CR30            byte    %10.0g                CR30\n",
      "CR31            byte    %10.0g                CR31\n",
      "CR32            byte    %10.0g                CR32\n",
      "CR33            byte    %10.0g                CR33\n",
      "CR34            byte    %10.0g                CR34\n",
      "CR35            byte    %10.0g                CR35\n",
      "CR36            byte    %10.0g                CR36\n",
      "CR37            byte    %10.0g                CR37\n",
      "CR38            byte    %10.0g                CR38\n",
      "CR39            byte    %10.0g                CR39\n",
      "CR40            byte    %10.0g                CR40\n",
      "CR41            byte    %10.0g                CR41\n",
      "CR42            byte    %10.0g                CR42\n",
      "CR43            byte    %10.0g                CR43\n",
      "Stratum         long    %10.0g                Stratum\n",
      "PSU             byte    %10.0g                PSU\n",
      "-------------------------------------------------------------------------------\n",
      "Sorted by: \n",
      "     Note: Dataset has changed since last saved.\n",
      "\n",
      ". \n"
     ]
    }
   ],
   "source": [
    "%%stata\n",
    "import excel \"$data/GYTS_2014_CAMEROON_NATIONAL.XLSX\", ///\n",
    "sheet(\"GYTS 2014 CAMEROON (NATIONAL) W\") firstrow\n",
    "describe"
   ]
  },
  {
   "cell_type": "markdown",
   "id": "d12030e8",
   "metadata": {},
   "source": [
    "---"
   ]
  },
  {
   "cell_type": "markdown",
   "id": "2c1b0474",
   "metadata": {},
   "source": [
    "# Clean-up and rename data elements"
   ]
  },
  {
   "cell_type": "markdown",
   "id": "b6edcce6",
   "metadata": {},
   "source": [
    "**Create age category based on CR1 with base category == 11 yr or younger.**"
   ]
  },
  {
   "cell_type": "code",
   "execution_count": 28,
   "id": "ae5570fb",
   "metadata": {},
   "outputs": [
    {
     "name": "stdout",
     "output_type": "stream",
     "text": [
      "\n",
      ". label define ageCategoryLabels ///\n",
      "> 0 \"<= 11 yrs old\" ///\n",
      "> 1 \"12 yrs old\" ///\n",
      "> 2 \"13 yrs old\" ///\n",
      "> 3 \"14 yrs old\" ///\n",
      "> 4 \"15 yrs old\" ///\n",
      "> 5 \"16 yrs old\" ///\n",
      "> 6 \">= 17 yrs old\" , replace\n",
      "\n",
      ". \n"
     ]
    }
   ],
   "source": [
    "%%stata\n",
    "label define ageCategoryLabels ///\n",
    "0 \"<= 11 yrs old\" ///\n",
    "1 \"12 yrs old\" ///\n",
    "2 \"13 yrs old\" ///\n",
    "3 \"14 yrs old\" ///\n",
    "4 \"15 yrs old\" ///\n",
    "5 \"16 yrs old\" ///\n",
    "6 \">= 17 yrs old\" , replace"
   ]
  },
  {
   "cell_type": "code",
   "execution_count": 29,
   "id": "6c8f013a",
   "metadata": {},
   "outputs": [
    {
     "name": "stdout",
     "output_type": "stream",
     "text": [
      "\n",
      ". generate ageCategory = .\n",
      "(2,922 missing values generated)\n",
      "\n",
      ". label values ageCategory ageCategoryLabels\n",
      "\n",
      ". replace ageCategory =0 if CR1==1\n",
      "(122 real changes made)\n",
      "\n",
      ". replace ageCategory =1 if CR1==2\n",
      "(241 real changes made)\n",
      "\n",
      ". replace ageCategory =2 if CR1==3\n",
      "(537 real changes made)\n",
      "\n",
      ". replace ageCategory =3 if CR1==4\n",
      "(721 real changes made)\n",
      "\n",
      ". replace ageCategory =4 if CR1==5\n",
      "(615 real changes made)\n",
      "\n",
      ". replace ageCategory =5 if CR1==6\n",
      "(293 real changes made)\n",
      "\n",
      ". replace ageCategory =6 if CR1==7\n",
      "(391 real changes made)\n",
      "\n",
      ". \n"
     ]
    }
   ],
   "source": [
    "%%stata\n",
    "generate ageCategory = .\n",
    "label values ageCategory ageCategoryLabels\n",
    "replace ageCategory =0 if CR1==1\n",
    "replace ageCategory =1 if CR1==2\n",
    "replace ageCategory =2 if CR1==3\n",
    "replace ageCategory =3 if CR1==4\n",
    "replace ageCategory =4 if CR1==5\n",
    "replace ageCategory =5 if CR1==6\n",
    "replace ageCategory =6 if CR1==7"
   ]
  },
  {
   "cell_type": "code",
   "execution_count": 30,
   "id": "d6a55217",
   "metadata": {},
   "outputs": [
    {
     "name": "stdout",
     "output_type": "stream",
     "text": [
      "\n",
      ". tab ageCategory\n",
      "\n",
      "  ageCategory |      Freq.     Percent        Cum.\n",
      "--------------+-----------------------------------\n",
      "<= 11 yrs old |        122        4.18        4.18\n",
      "   12 yrs old |        241        8.25       12.43\n",
      "   13 yrs old |        537       18.39       30.82\n",
      "   14 yrs old |        721       24.69       55.51\n",
      "   15 yrs old |        615       21.06       76.58\n",
      "   16 yrs old |        293       10.03       86.61\n",
      ">= 17 yrs old |        391       13.39      100.00\n",
      "--------------+-----------------------------------\n",
      "        Total |      2,920      100.00\n",
      "\n",
      ". tab CR1\n",
      "\n",
      "        CR1 |      Freq.     Percent        Cum.\n",
      "------------+-----------------------------------\n",
      "          1 |        122        4.18        4.18\n",
      "          2 |        241        8.25       12.43\n",
      "          3 |        537       18.39       30.82\n",
      "          4 |        721       24.69       55.51\n",
      "          5 |        615       21.06       76.58\n",
      "          6 |        293       10.03       86.61\n",
      "          7 |        391       13.39      100.00\n",
      "------------+-----------------------------------\n",
      "      Total |      2,920      100.00\n",
      "\n",
      ". \n"
     ]
    }
   ],
   "source": [
    "%%stata\n",
    "tab ageCategory\n",
    "tab CR1"
   ]
  },
  {
   "cell_type": "markdown",
   "id": "b9170ee7",
   "metadata": {},
   "source": [
    "**Create female based on CR2.  base category is male**"
   ]
  },
  {
   "cell_type": "code",
   "execution_count": 31,
   "id": "cefd9866",
   "metadata": {},
   "outputs": [
    {
     "name": "stdout",
     "output_type": "stream",
     "text": [
      "\n",
      ". label define sexLabels ///\n",
      "> 0 \"male\" ///\n",
      "> 1 \"female\", replace\n",
      "\n",
      ". \n"
     ]
    }
   ],
   "source": [
    "%%stata\n",
    "label define sexLabels ///\n",
    "0 \"male\" ///\n",
    "1 \"female\", replace"
   ]
  },
  {
   "cell_type": "code",
   "execution_count": 32,
   "id": "63ed5962",
   "metadata": {},
   "outputs": [
    {
     "name": "stdout",
     "output_type": "stream",
     "text": [
      "\n",
      ". generate female =.\n",
      "(2,922 missing values generated)\n",
      "\n",
      ". label values female sexLabels\n",
      "\n",
      ". replace female =0 if CR2==1\n",
      "(1,622 real changes made)\n",
      "\n",
      ". replace female =1 if CR2==2\n",
      "(1,298 real changes made)\n",
      "\n",
      ". \n"
     ]
    }
   ],
   "source": [
    "%%stata\n",
    "generate female =.\n",
    "label values female sexLabels\n",
    "replace female =0 if CR2==1\n",
    "replace female =1 if CR2==2"
   ]
  },
  {
   "cell_type": "code",
   "execution_count": 33,
   "id": "366a1a90",
   "metadata": {},
   "outputs": [
    {
     "name": "stdout",
     "output_type": "stream",
     "text": [
      "\n",
      ". tab female\n",
      "\n",
      "     female |      Freq.     Percent        Cum.\n",
      "------------+-----------------------------------\n",
      "       male |      1,622       55.55       55.55\n",
      "     female |      1,298       44.45      100.00\n",
      "------------+-----------------------------------\n",
      "      Total |      2,920      100.00\n",
      "\n",
      ". tab CR2\n",
      "\n",
      "        CR2 |      Freq.     Percent        Cum.\n",
      "------------+-----------------------------------\n",
      "          1 |      1,622       55.55       55.55\n",
      "          2 |      1,298       44.45      100.00\n",
      "------------+-----------------------------------\n",
      "      Total |      2,920      100.00\n",
      "\n",
      ". \n"
     ]
    }
   ],
   "source": [
    "%%stata\n",
    "tab female\n",
    "tab CR2"
   ]
  },
  {
   "cell_type": "markdown",
   "id": "53adfab2",
   "metadata": {},
   "source": [
    "**Create hasMoney based on CMR4.  base category will be no money, CMR4==1.  hasMoney==1 when CMR4 > 1**"
   ]
  },
  {
   "cell_type": "code",
   "execution_count": 34,
   "id": "f0f95dfc",
   "metadata": {},
   "outputs": [
    {
     "name": "stdout",
     "output_type": "stream",
     "text": [
      "\n",
      ". label define hasMoneyLabel ///\n",
      "> 0 \"No spending money, CMR4=1\" ///\n",
      "> 1 \"Has some spending money, CMR4=2-8\", replace\n",
      "\n",
      ". \n"
     ]
    }
   ],
   "source": [
    "%%stata\n",
    "label define hasMoneyLabel ///\n",
    "0 \"No spending money, CMR4=1\" ///\n",
    "1 \"Has some spending money, CMR4=2-8\", replace"
   ]
  },
  {
   "cell_type": "code",
   "execution_count": 35,
   "id": "79ba5d0d",
   "metadata": {},
   "outputs": [
    {
     "name": "stdout",
     "output_type": "stream",
     "text": [
      "\n",
      ". generate hasMoney = .\n",
      "(2,922 missing values generated)\n",
      "\n",
      ". label values hasMoney hasMoneyLabel\n",
      "\n",
      ". replace hasMoney =0 if CMR4==1\n",
      "(635 real changes made)\n",
      "\n",
      ". replace hasMoney =1 if CMR4>1 & CMR4 != .\n",
      "(2,278 real changes made)\n",
      "\n",
      ". \n"
     ]
    }
   ],
   "source": [
    "%%stata\n",
    "generate hasMoney = .\n",
    "label values hasMoney hasMoneyLabel\n",
    "replace hasMoney =0 if CMR4==1\n",
    "replace hasMoney =1 if CMR4>1 & CMR4 != ."
   ]
  },
  {
   "cell_type": "code",
   "execution_count": 36,
   "id": "a512eeca",
   "metadata": {},
   "outputs": [
    {
     "name": "stdout",
     "output_type": "stream",
     "text": [
      "\n",
      ". tab CMR4\n",
      "\n",
      "       CMR4 |      Freq.     Percent        Cum.\n",
      "------------+-----------------------------------\n",
      "          1 |        635       21.80       21.80\n",
      "          2 |      1,156       39.68       61.48\n",
      "          3 |        555       19.05       80.54\n",
      "          4 |        268        9.20       89.74\n",
      "          5 |        119        4.09       93.82\n",
      "          6 |         87        2.99       96.81\n",
      "          7 |         50        1.72       98.52\n",
      "          8 |         43        1.48      100.00\n",
      "------------+-----------------------------------\n",
      "      Total |      2,913      100.00\n",
      "\n",
      ". tab CMR4 if CMR4>1\n",
      "\n",
      "       CMR4 |      Freq.     Percent        Cum.\n",
      "------------+-----------------------------------\n",
      "          2 |      1,156       50.75       50.75\n",
      "          3 |        555       24.36       75.11\n",
      "          4 |        268       11.76       86.87\n",
      "          5 |        119        5.22       92.10\n",
      "          6 |         87        3.82       95.92\n",
      "          7 |         50        2.19       98.11\n",
      "          8 |         43        1.89      100.00\n",
      "------------+-----------------------------------\n",
      "      Total |      2,278      100.00\n",
      "\n",
      ". tab hasMoney\n",
      "\n",
      "                         hasMoney |      Freq.     Percent        Cum.\n",
      "----------------------------------+-----------------------------------\n",
      "        No spending money, CMR4=1 |        635       21.80       21.80\n",
      "Has some spending money, CMR4=2-8 |      2,278       78.20      100.00\n",
      "----------------------------------+-----------------------------------\n",
      "                            Total |      2,913      100.00\n",
      "\n",
      ". \n"
     ]
    }
   ],
   "source": [
    "%%stata\n",
    "tab CMR4\n",
    "tab CMR4 if CMR4>1\n",
    "tab hasMoney"
   ]
  },
  {
   "cell_type": "markdown",
   "id": "7f729eba",
   "metadata": {},
   "source": [
    "**Create smoker from CR7.  smoker == 0 if 0 days smoked in the last 30 days**"
   ]
  },
  {
   "cell_type": "code",
   "execution_count": 37,
   "id": "e715829f",
   "metadata": {},
   "outputs": [
    {
     "name": "stdout",
     "output_type": "stream",
     "text": [
      "\n",
      ". label define smokerLabel ///\n",
      "> 0 \"No cigarettes in previous 30 days\" ///\n",
      "> 1 \"Some cigarettes in prevous 30 days\", replace\n",
      "\n",
      ". \n"
     ]
    }
   ],
   "source": [
    "%%stata\n",
    "label define smokerLabel ///\n",
    "0 \"No cigarettes in previous 30 days\" ///\n",
    "1 \"Some cigarettes in prevous 30 days\", replace"
   ]
  },
  {
   "cell_type": "code",
   "execution_count": 38,
   "id": "6c3f7d1b",
   "metadata": {},
   "outputs": [
    {
     "name": "stdout",
     "output_type": "stream",
     "text": [
      "\n",
      ". generate smoker = .\n",
      "(2,922 missing values generated)\n",
      "\n",
      ". label value smoker smokerLabel\n",
      "\n",
      ". replace smoker =0 if CR7==1\n",
      "(2,577 real changes made)\n",
      "\n",
      ". replace smoker =1 if CR7>1 & CR7 !=.\n",
      "(191 real changes made)\n",
      "\n",
      ". \n"
     ]
    }
   ],
   "source": [
    "%%stata\n",
    "generate smoker = .\n",
    "label value smoker smokerLabel\n",
    "replace smoker =0 if CR7==1\n",
    "replace smoker =1 if CR7>1 & CR7 !=."
   ]
  },
  {
   "cell_type": "code",
   "execution_count": 39,
   "id": "1a5eabda",
   "metadata": {},
   "outputs": [
    {
     "name": "stdout",
     "output_type": "stream",
     "text": [
      "\n",
      ". tab CR7\n",
      "\n",
      "        CR7 |      Freq.     Percent        Cum.\n",
      "------------+-----------------------------------\n",
      "          1 |      2,577       93.10       93.10\n",
      "          2 |        115        4.15       97.25\n",
      "          3 |         33        1.19       98.45\n",
      "          4 |         12        0.43       98.88\n",
      "          5 |         12        0.43       99.31\n",
      "          6 |          4        0.14       99.46\n",
      "          7 |         15        0.54      100.00\n",
      "------------+-----------------------------------\n",
      "      Total |      2,768      100.00\n",
      "\n",
      ". tab CR7 if CR7>1\n",
      "\n",
      "        CR7 |      Freq.     Percent        Cum.\n",
      "------------+-----------------------------------\n",
      "          2 |        115       60.21       60.21\n",
      "          3 |         33       17.28       77.49\n",
      "          4 |         12        6.28       83.77\n",
      "          5 |         12        6.28       90.05\n",
      "          6 |          4        2.09       92.15\n",
      "          7 |         15        7.85      100.00\n",
      "------------+-----------------------------------\n",
      "      Total |        191      100.00\n",
      "\n",
      ". tab smoker\n",
      "\n",
      "                            smoker |      Freq.     Percent        Cum.\n",
      "-----------------------------------+-----------------------------------\n",
      " No cigarettes in previous 30 days |      2,577       93.10       93.10\n",
      "Some cigarettes in prevous 30 days |        191        6.90      100.00\n",
      "-----------------------------------+-----------------------------------\n",
      "                             Total |      2,768      100.00\n",
      "\n",
      ". \n"
     ]
    }
   ],
   "source": [
    "%%stata\n",
    "tab CR7\n",
    "tab CR7 if CR7>1\n",
    "tab smoker"
   ]
  },
  {
   "cell_type": "markdown",
   "id": "2e1cebbd",
   "metadata": {},
   "source": [
    "**Create easyToQuit from CR41. Base category is \"Yes\"**"
   ]
  },
  {
   "cell_type": "code",
   "execution_count": 40,
   "id": "4860fb38",
   "metadata": {},
   "outputs": [
    {
     "name": "stdout",
     "output_type": "stream",
     "text": [
      "\n",
      ". label define easyToQuitLabel ///\n",
      "> 0 \"Not Easy to Quit\" ///\n",
      "> 1 \"Easy to Quiet\" , replace\n",
      "\n",
      ". \n"
     ]
    }
   ],
   "source": [
    "%%stata\n",
    "label define easyToQuitLabel ///\n",
    "0 \"Not Easy to Quit\" ///\n",
    "1 \"Easy to Quiet\" , replace"
   ]
  },
  {
   "cell_type": "code",
   "execution_count": 41,
   "id": "a878b214",
   "metadata": {},
   "outputs": [
    {
     "name": "stdout",
     "output_type": "stream",
     "text": [
      "\n",
      ". generate easyToQuit = .\n",
      "(2,922 missing values generated)\n",
      "\n",
      ". label value easyToQuit easyToQuitLabel\n",
      "\n",
      ". replace easyToQuit =1 if CR41==1\n",
      "(1,164 real changes made)\n",
      "\n",
      ". replace easyToQuit =1 if CR41==2\n",
      "(369 real changes made)\n",
      "\n",
      ". replace easyToQuit =0 if CR41==3\n",
      "(527 real changes made)\n",
      "\n",
      ". replace easyToQuit =0 if CR41==4\n",
      "(846 real changes made)\n",
      "\n",
      ". \n"
     ]
    }
   ],
   "source": [
    "%%stata\n",
    "generate easyToQuit = .\n",
    "label value easyToQuit easyToQuitLabel\n",
    "replace easyToQuit =1 if CR41==1\n",
    "replace easyToQuit =1 if CR41==2\n",
    "replace easyToQuit =0 if CR41==3\n",
    "replace easyToQuit =0 if CR41==4"
   ]
  },
  {
   "cell_type": "code",
   "execution_count": 42,
   "id": "5e53452e",
   "metadata": {},
   "outputs": [
    {
     "name": "stdout",
     "output_type": "stream",
     "text": [
      "\n",
      ". tab easyToQuit\n",
      "\n",
      "      easyToQuit |      Freq.     Percent        Cum.\n",
      "-----------------+-----------------------------------\n",
      "Not Easy to Quit |      1,373       47.25       47.25\n",
      "   Easy to Quiet |      1,533       52.75      100.00\n",
      "-----------------+-----------------------------------\n",
      "           Total |      2,906      100.00\n",
      "\n",
      ". tab CR41\n",
      "\n",
      "       CR41 |      Freq.     Percent        Cum.\n",
      "------------+-----------------------------------\n",
      "          1 |      1,164       40.06       40.06\n",
      "          2 |        369       12.70       52.75\n",
      "          3 |        527       18.13       70.89\n",
      "          4 |        846       29.11      100.00\n",
      "------------+-----------------------------------\n",
      "      Total |      2,906      100.00\n",
      "\n",
      ". \n"
     ]
    }
   ],
   "source": [
    "%%stata\n",
    "tab easyToQuit\n",
    "tab CR41"
   ]
  },
  {
   "cell_type": "markdown",
   "id": "23f497e8",
   "metadata": {},
   "source": [
    "**Define smokingPresenceLabel as number of days someone smoked in the presence of respondent**"
   ]
  },
  {
   "cell_type": "code",
   "execution_count": 43,
   "id": "6e02a755",
   "metadata": {},
   "outputs": [
    {
     "name": "stdout",
     "output_type": "stream",
     "text": [
      "\n",
      ". label define smokingPresenceLabel ///\n",
      "> 0 \"No Smoking\" ///\n",
      "> 1 \"Yes Smoking\", replace\n",
      "\n",
      ". \n"
     ]
    }
   ],
   "source": [
    "%%stata\n",
    "label define smokingPresenceLabel ///\n",
    "0 \"No Smoking\" ///\n",
    "1 \"Yes Smoking\", replace"
   ]
  },
  {
   "cell_type": "code",
   "execution_count": 44,
   "id": "4ce65572",
   "metadata": {},
   "outputs": [
    {
     "name": "stdout",
     "output_type": "stream",
     "text": [
      "\n",
      ". generate smokingHome = .\n",
      "(2,922 missing values generated)\n",
      "\n",
      ". label value smokingHome smokingPresenceLabel\n",
      "\n",
      ". replace smokingHome =0 if CR19==1\n",
      "(2,075 real changes made)\n",
      "\n",
      ". replace smokingHome =1 if CR19==2\n",
      "(357 real changes made)\n",
      "\n",
      ". replace smokingHome =1 if CR19==3\n",
      "(182 real changes made)\n",
      "\n",
      ". replace smokingHome =1 if CR19==4\n",
      "(77 real changes made)\n",
      "\n",
      ". replace smokingHome =1 if CR19==5\n",
      "(222 real changes made)\n",
      "\n",
      ". \n"
     ]
    }
   ],
   "source": [
    "%%stata\n",
    "generate smokingHome = .\n",
    "label value smokingHome smokingPresenceLabel\n",
    "replace smokingHome =0 if CR19==1\n",
    "replace smokingHome =1 if CR19==2\n",
    "replace smokingHome =1 if CR19==3\n",
    "replace smokingHome =1 if CR19==4\n",
    "replace smokingHome =1 if CR19==5"
   ]
  },
  {
   "cell_type": "code",
   "execution_count": 45,
   "id": "3865f0a5",
   "metadata": {},
   "outputs": [
    {
     "name": "stdout",
     "output_type": "stream",
     "text": [
      "\n",
      ". generate smokingIndoors = .\n",
      "(2,922 missing values generated)\n",
      "\n",
      ". label value smokingIndoors smokingPresenceLabel\n",
      "\n",
      ". replace smokingIndoors =0 if CR20==1\n",
      "(1,613 real changes made)\n",
      "\n",
      ". replace smokingIndoors =1 if CR20==2\n",
      "(592 real changes made)\n",
      "\n",
      ". replace smokingIndoors =1 if CR20==3\n",
      "(272 real changes made)\n",
      "\n",
      ". replace smokingIndoors =1 if CR20==4\n",
      "(139 real changes made)\n",
      "\n",
      ". replace smokingIndoors =1 if CR20==5\n",
      "(288 real changes made)\n",
      "\n",
      ". \n"
     ]
    }
   ],
   "source": [
    "%%stata\n",
    "generate smokingIndoors = .\n",
    "label value smokingIndoors smokingPresenceLabel\n",
    "replace smokingIndoors =0 if CR20==1\n",
    "replace smokingIndoors =1 if CR20==2\n",
    "replace smokingIndoors =1 if CR20==3\n",
    "replace smokingIndoors =1 if CR20==4\n",
    "replace smokingIndoors =1 if CR20==5"
   ]
  },
  {
   "cell_type": "code",
   "execution_count": 46,
   "id": "1b82be3d",
   "metadata": {},
   "outputs": [
    {
     "name": "stdout",
     "output_type": "stream",
     "text": [
      "\n",
      ". generate smokingOutdoors = .\n",
      "(2,922 missing values generated)\n",
      "\n",
      ". label value smokingOutdoors smokingPresenceLabel\n",
      "\n",
      ". replace smokingOutdoors =0 if CR21==1\n",
      "(1,473 real changes made)\n",
      "\n",
      ". replace smokingOutdoors =1 if CR21==2\n",
      "(705 real changes made)\n",
      "\n",
      ". replace smokingOutdoors =1 if CR21==3\n",
      "(273 real changes made)\n",
      "\n",
      ". replace smokingOutdoors =1 if CR21==4\n",
      "(152 real changes made)\n",
      "\n",
      ". replace smokingOutdoors =1 if CR21==5\n",
      "(302 real changes made)\n",
      "\n",
      ". \n"
     ]
    }
   ],
   "source": [
    "%%stata\n",
    "generate smokingOutdoors = .\n",
    "label value smokingOutdoors smokingPresenceLabel\n",
    "replace smokingOutdoors =0 if CR21==1\n",
    "replace smokingOutdoors =1 if CR21==2\n",
    "replace smokingOutdoors =1 if CR21==3\n",
    "replace smokingOutdoors =1 if CR21==4\n",
    "replace smokingOutdoors =1 if CR21==5"
   ]
  },
  {
   "cell_type": "code",
   "execution_count": 47,
   "id": "354c64f8",
   "metadata": {},
   "outputs": [
    {
     "name": "stdout",
     "output_type": "stream",
     "text": [
      "\n",
      "file Data/cameroonSmokingSurvery.dta saved\n"
     ]
    }
   ],
   "source": [
    "%%stata\n",
    "save \"${data}/${country}SmokingSurvery.dta\", replace"
   ]
  },
  {
   "cell_type": "code",
   "execution_count": 48,
   "id": "905a06a3",
   "metadata": {},
   "outputs": [],
   "source": [
    "%%capture\n",
    "%stata log close"
   ]
  },
  {
   "cell_type": "code",
   "execution_count": 49,
   "id": "4f30b0f1",
   "metadata": {},
   "outputs": [],
   "source": [
    "%stata clear"
   ]
  },
  {
   "cell_type": "code",
   "execution_count": null,
   "id": "74b99d3d",
   "metadata": {},
   "outputs": [],
   "source": []
  }
 ],
 "metadata": {
  "kernelspec": {
   "display_name": "Python 3",
   "language": "python",
   "name": "python3"
  },
  "language_info": {
   "codemirror_mode": {
    "name": "ipython",
    "version": 3
   },
   "file_extension": ".py",
   "mimetype": "text/x-python",
   "name": "python",
   "nbconvert_exporter": "python",
   "pygments_lexer": "ipython3",
   "version": "3.8.1"
  }
 },
 "nbformat": 4,
 "nbformat_minor": 5
}
