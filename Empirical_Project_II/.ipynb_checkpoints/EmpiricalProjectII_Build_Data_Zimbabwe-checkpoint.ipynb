{
 "cells": [
  {
   "cell_type": "markdown",
   "id": "0d58dc4d",
   "metadata": {},
   "source": [
    "# Empirical Project 2\n",
    " "
   ]
  },
  {
   "cell_type": "code",
   "execution_count": 1,
   "id": "4d3003d7",
   "metadata": {},
   "outputs": [],
   "source": [
    "%%capture\n",
    "# Capture suppresses output to screen\n",
    "import stata_setup\n",
    "stata_setup.config(\"/Applications/Stata 17\", \"be\")"
   ]
  },
  {
   "cell_type": "code",
   "execution_count": 2,
   "id": "ebf7a8c7",
   "metadata": {},
   "outputs": [
    {
     "name": "stdout",
     "output_type": "stream",
     "text": [
      "\n",
      ". /* Define paths for data and output */\n",
      ". global data \"Data\"\n",
      "\n",
      ". global output \"Output\"\n",
      "\n",
      ". global country \"zimbabwe\"\n",
      "\n",
      ". \n"
     ]
    }
   ],
   "source": [
    "%%stata\n",
    "/* Define paths for data and output */\n",
    "global data \"Data\"\n",
    "global output \"Output\"\n",
    "global country \"zimbabwe\""
   ]
  },
  {
   "cell_type": "code",
   "execution_count": 3,
   "id": "0084ad44",
   "metadata": {},
   "outputs": [],
   "source": [
    "%%capture\n",
    "%%stata\n",
    "log using \"$output/empiricalPrjExplore-Zimbabwe.log\", replace"
   ]
  },
  {
   "cell_type": "markdown",
   "id": "da7f2299",
   "metadata": {},
   "source": [
    "## Open Zimbabwe's dataset and explore the contents"
   ]
  },
  {
   "cell_type": "code",
   "execution_count": 4,
   "id": "323124fb",
   "metadata": {},
   "outputs": [
    {
     "name": "stdout",
     "output_type": "stream",
     "text": [
      "\n",
      ". import excel \"$data/GYTS_2014_ZIMBABWE_NATIONAL.XLSX\", ///\n",
      "> sheet(\"GYTS 2014 Zimbabwe (National) W\") firstrow\n",
      "(75 vars, 6,427 obs)\n",
      "\n",
      ". describe\n",
      "\n",
      "Contains data\n",
      " Observations:         6,427                  \n",
      "    Variables:            75                  \n",
      "-------------------------------------------------------------------------------\n",
      "Variable      Storage   Display    Value\n",
      "    name         type    format    label      Variable label\n",
      "-------------------------------------------------------------------------------\n",
      "FinalWgt        double  %10.0g                FinalWgt\n",
      "Stratum         long    %10.0g                Stratum\n",
      "PSU             byte    %10.0g                PSU\n",
      "CR1             byte    %10.0g                CR1\n",
      "CR2             byte    %10.0g                CR2\n",
      "ZBR3            byte    %10.0g                ZBR3\n",
      "ZBR4            byte    %10.0g                ZBR4\n",
      "CR5             byte    %10.0g                CR5\n",
      "CR6             byte    %10.0g                CR6\n",
      "CR7             byte    %10.0g                CR7\n",
      "CR8             byte    %10.0g                CR8\n",
      "OR9             byte    %10.0g                OR9\n",
      "CR9             byte    %10.0g                CR9\n",
      "CR10            byte    %10.0g                CR10\n",
      "CR11            byte    %10.0g                CR11\n",
      "CR12            byte    %10.0g                CR12\n",
      "CR13            byte    %10.0g                CR13\n",
      "CR14            byte    %10.0g                CR14\n",
      "CR15            byte    %10.0g                CR15\n",
      "CR16            byte    %10.0g                CR16\n",
      "CR17            byte    %10.0g                CR17\n",
      "CR18            byte    %10.0g                CR18\n",
      "OR13            byte    %10.0g                OR13\n",
      "CR19            byte    %10.0g                CR19\n",
      "OR15            byte    %10.0g                OR15\n",
      "OR16            byte    %10.0g                OR16\n",
      "OR17            byte    %10.0g                OR17\n",
      "OR18            byte    %10.0g                OR18\n",
      "CR20            byte    %10.0g                CR20\n",
      "CR21            byte    %10.0g                CR21\n",
      "CR22            byte    %10.0g                CR22\n",
      "CR23            byte    %10.0g                CR23\n",
      "CR24            byte    %10.0g                CR24\n",
      "CR25            byte    %10.0g                CR25\n",
      "ZBR32           byte    %10.0g                ZBR32\n",
      "CR27            byte    %10.0g                CR27\n",
      "CR28            byte    %10.0g                CR28\n",
      "OR22            byte    %10.0g                OR22\n",
      "OR23            byte    %10.0g                OR23\n",
      "ZBR37           byte    %10.0g                ZBR37\n",
      "CR30            byte    %10.0g                CR30\n",
      "CR31            byte    %10.0g                CR31\n",
      "CR32            byte    %10.0g                CR32\n",
      "OR25            byte    %10.0g                OR25\n",
      "CR33            byte    %10.0g                CR33\n",
      "CR34            byte    %10.0g                CR34\n",
      "CR35            byte    %10.0g                CR35\n",
      "OR40            byte    %10.0g                OR40\n",
      "OR41            byte    %10.0g                OR41\n",
      "OR44            byte    %10.0g                OR44\n",
      "CR36            byte    %10.0g                CR36\n",
      "CR37            byte    %10.0g                CR37\n",
      "CR38            byte    %10.0g                CR38\n",
      "CR39            byte    %10.0g                CR39\n",
      "CR40            byte    %10.0g                CR40\n",
      "CR41            byte    %10.0g                CR41\n",
      "CR42            byte    %10.0g                CR42\n",
      "CR43            byte    %10.0g                CR43\n",
      "SLR1            byte    %10.0g                SLR1\n",
      "SLR2            byte    %10.0g                SLR2\n",
      "OR1             byte    %10.0g                OR1\n",
      "ZBR59           byte    %10.0g                ZBR59\n",
      "ZBR60           byte    %10.0g                ZBR60\n",
      "OR47            byte    %10.0g                OR47\n",
      "OR48            byte    %10.0g                OR48\n",
      "OR49            byte    %10.0g                OR49\n",
      "OR53            byte    %10.0g                OR53\n",
      "ZBR65           byte    %10.0g                ZBR65\n",
      "OR55            byte    %10.0g                OR55\n",
      "OR56            byte    %10.0g                OR56\n",
      "OR58            byte    %10.0g                OR58\n",
      "OR59            byte    %10.0g                OR59\n",
      "OR60            byte    %10.0g                OR60\n",
      "OR61            byte    %10.0g                OR61\n",
      "OR62            byte    %10.0g                OR62\n",
      "-------------------------------------------------------------------------------\n",
      "Sorted by: \n",
      "     Note: Dataset has changed since last saved.\n",
      "\n",
      ". \n"
     ]
    }
   ],
   "source": [
    "%%stata\n",
    "import excel \"$data/GYTS_2014_ZIMBABWE_NATIONAL.XLSX\", ///\n",
    "sheet(\"GYTS 2014 Zimbabwe (National) W\") firstrow\n",
    "describe"
   ]
  },
  {
   "cell_type": "markdown",
   "id": "d12030e8",
   "metadata": {},
   "source": [
    "---"
   ]
  },
  {
   "cell_type": "markdown",
   "id": "2c1b0474",
   "metadata": {},
   "source": [
    "# Clean-up and rename data elements"
   ]
  },
  {
   "cell_type": "markdown",
   "id": "b6edcce6",
   "metadata": {},
   "source": [
    "**Create age category based on CR1 with base category == 11 yr or younger.**"
   ]
  },
  {
   "cell_type": "code",
   "execution_count": 5,
   "id": "ae5570fb",
   "metadata": {},
   "outputs": [
    {
     "name": "stdout",
     "output_type": "stream",
     "text": [
      "\n",
      ". label define ageCategoryLabels ///\n",
      "> 0 \"<= 11 yrs old\" ///\n",
      "> 1 \"12 yrs old\" ///\n",
      "> 2 \"13 yrs old\" ///\n",
      "> 3 \"14 yrs old\" ///\n",
      "> 4 \"15 yrs old\" ///\n",
      "> 5 \"16 yrs old\" ///\n",
      "> 6 \">= 17 yrs old\" , replace\n",
      "\n",
      ". \n"
     ]
    }
   ],
   "source": [
    "%%stata\n",
    "label define ageCategoryLabels ///\n",
    "0 \"<= 11 yrs old\" ///\n",
    "1 \"12 yrs old\" ///\n",
    "2 \"13 yrs old\" ///\n",
    "3 \"14 yrs old\" ///\n",
    "4 \"15 yrs old\" ///\n",
    "5 \"16 yrs old\" ///\n",
    "6 \">= 17 yrs old\" , replace"
   ]
  },
  {
   "cell_type": "code",
   "execution_count": 6,
   "id": "6c8f013a",
   "metadata": {},
   "outputs": [
    {
     "name": "stdout",
     "output_type": "stream",
     "text": [
      "\n",
      ". generate ageCategory = .\n",
      "(6,427 missing values generated)\n",
      "\n",
      ". label values ageCategory ageCategoryLabels\n",
      "\n",
      ". replace ageCategory =0 if CR1==1\n",
      "(71 real changes made)\n",
      "\n",
      ". replace ageCategory =1 if CR1==2\n",
      "(581 real changes made)\n",
      "\n",
      ". replace ageCategory =2 if CR1==3\n",
      "(1,780 real changes made)\n",
      "\n",
      ". replace ageCategory =3 if CR1==4\n",
      "(2,046 real changes made)\n",
      "\n",
      ". replace ageCategory =4 if CR1==5\n",
      "(1,288 real changes made)\n",
      "\n",
      ". replace ageCategory =5 if CR1==6\n",
      "(468 real changes made)\n",
      "\n",
      ". replace ageCategory =6 if CR1==7\n",
      "(182 real changes made)\n",
      "\n",
      ". \n"
     ]
    }
   ],
   "source": [
    "%%stata\n",
    "generate ageCategory = .\n",
    "label values ageCategory ageCategoryLabels\n",
    "replace ageCategory =0 if CR1==1\n",
    "replace ageCategory =1 if CR1==2\n",
    "replace ageCategory =2 if CR1==3\n",
    "replace ageCategory =3 if CR1==4\n",
    "replace ageCategory =4 if CR1==5\n",
    "replace ageCategory =5 if CR1==6\n",
    "replace ageCategory =6 if CR1==7"
   ]
  },
  {
   "cell_type": "code",
   "execution_count": 7,
   "id": "d6a55217",
   "metadata": {},
   "outputs": [
    {
     "name": "stdout",
     "output_type": "stream",
     "text": [
      "\n",
      ". tab ageCategory\n",
      "\n",
      "  ageCategory |      Freq.     Percent        Cum.\n",
      "--------------+-----------------------------------\n",
      "<= 11 yrs old |         71        1.11        1.11\n",
      "   12 yrs old |        581        9.06       10.16\n",
      "   13 yrs old |      1,780       27.74       37.91\n",
      "   14 yrs old |      2,046       31.89       69.79\n",
      "   15 yrs old |      1,288       20.07       89.87\n",
      "   16 yrs old |        468        7.29       97.16\n",
      ">= 17 yrs old |        182        2.84      100.00\n",
      "--------------+-----------------------------------\n",
      "        Total |      6,416      100.00\n",
      "\n",
      ". tab CR1\n",
      "\n",
      "        CR1 |      Freq.     Percent        Cum.\n",
      "------------+-----------------------------------\n",
      "          1 |         71        1.11        1.11\n",
      "          2 |        581        9.06       10.16\n",
      "          3 |      1,780       27.74       37.91\n",
      "          4 |      2,046       31.89       69.79\n",
      "          5 |      1,288       20.07       89.87\n",
      "          6 |        468        7.29       97.16\n",
      "          7 |        182        2.84      100.00\n",
      "------------+-----------------------------------\n",
      "      Total |      6,416      100.00\n",
      "\n",
      ". \n"
     ]
    }
   ],
   "source": [
    "%%stata\n",
    "tab ageCategory\n",
    "tab CR1"
   ]
  },
  {
   "cell_type": "markdown",
   "id": "b9170ee7",
   "metadata": {},
   "source": [
    "**Create female based on CR2.  base category is male**"
   ]
  },
  {
   "cell_type": "code",
   "execution_count": 8,
   "id": "cefd9866",
   "metadata": {},
   "outputs": [
    {
     "name": "stdout",
     "output_type": "stream",
     "text": [
      "\n",
      ". label define sexLabels ///\n",
      "> 0 \"male\" ///\n",
      "> 1 \"female\", replace\n",
      "\n",
      ". \n"
     ]
    }
   ],
   "source": [
    "%%stata\n",
    "label define sexLabels ///\n",
    "0 \"male\" ///\n",
    "1 \"female\", replace"
   ]
  },
  {
   "cell_type": "code",
   "execution_count": 9,
   "id": "63ed5962",
   "metadata": {},
   "outputs": [
    {
     "name": "stdout",
     "output_type": "stream",
     "text": [
      "\n",
      ". generate female =.\n",
      "(6,427 missing values generated)\n",
      "\n",
      ". label values female sexLabels\n",
      "\n",
      ". replace female =0 if CR2==1\n",
      "(2,835 real changes made)\n",
      "\n",
      ". replace female =1 if CR2==2\n",
      "(3,511 real changes made)\n",
      "\n",
      ". \n"
     ]
    }
   ],
   "source": [
    "%%stata\n",
    "generate female =.\n",
    "label values female sexLabels\n",
    "replace female =0 if CR2==1\n",
    "replace female =1 if CR2==2"
   ]
  },
  {
   "cell_type": "code",
   "execution_count": 10,
   "id": "366a1a90",
   "metadata": {},
   "outputs": [
    {
     "name": "stdout",
     "output_type": "stream",
     "text": [
      "\n",
      ". tab female\n",
      "\n",
      "     female |      Freq.     Percent        Cum.\n",
      "------------+-----------------------------------\n",
      "       male |      2,835       44.67       44.67\n",
      "     female |      3,511       55.33      100.00\n",
      "------------+-----------------------------------\n",
      "      Total |      6,346      100.00\n",
      "\n",
      ". tab CR2\n",
      "\n",
      "        CR2 |      Freq.     Percent        Cum.\n",
      "------------+-----------------------------------\n",
      "          1 |      2,835       44.67       44.67\n",
      "          2 |      3,511       55.33      100.00\n",
      "------------+-----------------------------------\n",
      "      Total |      6,346      100.00\n",
      "\n",
      ". \n"
     ]
    }
   ],
   "source": [
    "%%stata\n",
    "tab female\n",
    "tab CR2"
   ]
  },
  {
   "cell_type": "markdown",
   "id": "53adfab2",
   "metadata": {},
   "source": [
    "**Create hasMoney based on ZBR4.  base category will be no money, ZBR4==1.  hasMoney==1 when ZMBR4 > 1**"
   ]
  },
  {
   "cell_type": "code",
   "execution_count": 11,
   "id": "f0f95dfc",
   "metadata": {},
   "outputs": [
    {
     "name": "stdout",
     "output_type": "stream",
     "text": [
      "\n",
      ". label define hasMoneyLabel ///\n",
      "> 0 \"No spending money, CMR4/ZBR4=1\" ///\n",
      "> 1 \"Has some spending money, CMR4/ZBR4=2-8\", replace\n",
      "\n",
      ". \n"
     ]
    }
   ],
   "source": [
    "%%stata\n",
    "label define hasMoneyLabel ///\n",
    "0 \"No spending money, CMR4/ZBR4=1\" ///\n",
    "1 \"Has some spending money, CMR4/ZBR4=2-8\", replace"
   ]
  },
  {
   "cell_type": "code",
   "execution_count": 14,
   "id": "79ba5d0d",
   "metadata": {},
   "outputs": [
    {
     "name": "stdout",
     "output_type": "stream",
     "text": [
      "\n",
      ". generate hasMoney = .\n",
      "(6,427 missing values generated)\n",
      "\n",
      ". label values hasMoney hasMoneyLabel\n",
      "\n",
      ". replace hasMoney =0 if ZBR4==1\n",
      "(1,955 real changes made)\n",
      "\n",
      ". replace hasMoney =1 if ZBR4>1 & ZBR4 != .\n",
      "(4,438 real changes made)\n",
      "\n",
      ". \n"
     ]
    }
   ],
   "source": [
    "%%stata\n",
    "generate hasMoney = .\n",
    "label values hasMoney hasMoneyLabel\n",
    "replace hasMoney =0 if ZBR4==1\n",
    "replace hasMoney =1 if ZBR4>1 & ZBR4 != ."
   ]
  },
  {
   "cell_type": "code",
   "execution_count": 15,
   "id": "a512eeca",
   "metadata": {},
   "outputs": [
    {
     "name": "stdout",
     "output_type": "stream",
     "text": [
      "\n",
      ". tab ZBR4\n",
      "\n",
      "       ZBR4 |      Freq.     Percent        Cum.\n",
      "------------+-----------------------------------\n",
      "          1 |      1,955       30.58       30.58\n",
      "          2 |      2,171       33.96       64.54\n",
      "          3 |      1,138       17.80       82.34\n",
      "          4 |        507        7.93       90.27\n",
      "          5 |        114        1.78       92.05\n",
      "          6 |        164        2.57       94.62\n",
      "          7 |        344        5.38      100.00\n",
      "------------+-----------------------------------\n",
      "      Total |      6,393      100.00\n",
      "\n",
      ". tab ZBR4 if ZBR4>1\n",
      "\n",
      "       ZBR4 |      Freq.     Percent        Cum.\n",
      "------------+-----------------------------------\n",
      "          2 |      2,171       48.92       48.92\n",
      "          3 |      1,138       25.64       74.56\n",
      "          4 |        507       11.42       85.98\n",
      "          5 |        114        2.57       88.55\n",
      "          6 |        164        3.70       92.25\n",
      "          7 |        344        7.75      100.00\n",
      "------------+-----------------------------------\n",
      "      Total |      4,438      100.00\n",
      "\n",
      ". tab hasMoney\n",
      "\n",
      "                              hasMoney |      Freq.     Percent        Cum.\n",
      "---------------------------------------+-----------------------------------\n",
      "        No spending money, CMR4/ZBR4=1 |      1,955       30.58       30.58\n",
      "Has some spending money, CMR4/ZBR4=2-8 |      4,438       69.42      100.00\n",
      "---------------------------------------+-----------------------------------\n",
      "                                 Total |      6,393      100.00\n",
      "\n",
      ". \n"
     ]
    }
   ],
   "source": [
    "%%stata\n",
    "tab ZBR4\n",
    "tab ZBR4 if ZBR4>1\n",
    "tab hasMoney"
   ]
  },
  {
   "cell_type": "markdown",
   "id": "7f729eba",
   "metadata": {},
   "source": [
    "**Create smoker from CR7.  smoker == 0 if 0 days smoked in the last 30 days**"
   ]
  },
  {
   "cell_type": "code",
   "execution_count": 16,
   "id": "e715829f",
   "metadata": {},
   "outputs": [
    {
     "name": "stdout",
     "output_type": "stream",
     "text": [
      "\n",
      ". label define smokerLabel ///\n",
      "> 0 \"No cigarettes in previous 30 days\" ///\n",
      "> 1 \"Some cigarettes in prevous 30 days\", replace\n",
      "\n",
      ". \n"
     ]
    }
   ],
   "source": [
    "%%stata\n",
    "label define smokerLabel ///\n",
    "0 \"No cigarettes in previous 30 days\" ///\n",
    "1 \"Some cigarettes in prevous 30 days\", replace"
   ]
  },
  {
   "cell_type": "code",
   "execution_count": 17,
   "id": "6c3f7d1b",
   "metadata": {},
   "outputs": [
    {
     "name": "stdout",
     "output_type": "stream",
     "text": [
      "\n",
      ". generate smoker = .\n",
      "(6,427 missing values generated)\n",
      "\n",
      ". label value smoker smokerLabel\n",
      "\n",
      ". replace smoker =0 if CR7==1\n",
      "(5,079 real changes made)\n",
      "\n",
      ". replace smoker =1 if CR7>1 & CR7 !=.\n",
      "(483 real changes made)\n",
      "\n",
      ". \n"
     ]
    }
   ],
   "source": [
    "%%stata\n",
    "generate smoker = .\n",
    "label value smoker smokerLabel\n",
    "replace smoker =0 if CR7==1\n",
    "replace smoker =1 if CR7>1 & CR7 !=."
   ]
  },
  {
   "cell_type": "code",
   "execution_count": 18,
   "id": "1a5eabda",
   "metadata": {},
   "outputs": [
    {
     "name": "stdout",
     "output_type": "stream",
     "text": [
      "\n",
      ". tab CR7\n",
      "\n",
      "        CR7 |      Freq.     Percent        Cum.\n",
      "------------+-----------------------------------\n",
      "          1 |      5,079       91.32       91.32\n",
      "          2 |        157        2.82       94.14\n",
      "          3 |         82        1.47       95.61\n",
      "          4 |         53        0.95       96.57\n",
      "          5 |         37        0.67       97.23\n",
      "          6 |         48        0.86       98.09\n",
      "          7 |        106        1.91      100.00\n",
      "------------+-----------------------------------\n",
      "      Total |      5,562      100.00\n",
      "\n",
      ". tab CR7 if CR7>1\n",
      "\n",
      "        CR7 |      Freq.     Percent        Cum.\n",
      "------------+-----------------------------------\n",
      "          2 |        157       32.51       32.51\n",
      "          3 |         82       16.98       49.48\n",
      "          4 |         53       10.97       60.46\n",
      "          5 |         37        7.66       68.12\n",
      "          6 |         48        9.94       78.05\n",
      "          7 |        106       21.95      100.00\n",
      "------------+-----------------------------------\n",
      "      Total |        483      100.00\n",
      "\n",
      ". tab smoker\n",
      "\n",
      "                            smoker |      Freq.     Percent        Cum.\n",
      "-----------------------------------+-----------------------------------\n",
      " No cigarettes in previous 30 days |      5,079       91.32       91.32\n",
      "Some cigarettes in prevous 30 days |        483        8.68      100.00\n",
      "-----------------------------------+-----------------------------------\n",
      "                             Total |      5,562      100.00\n",
      "\n",
      ". \n"
     ]
    }
   ],
   "source": [
    "%%stata\n",
    "tab CR7\n",
    "tab CR7 if CR7>1\n",
    "tab smoker"
   ]
  },
  {
   "cell_type": "markdown",
   "id": "2e1cebbd",
   "metadata": {},
   "source": [
    "**Create easyToQuit from CR41. Base category is \"Definitely No\" with decreasing difficulty at higher numbers**"
   ]
  },
  {
   "cell_type": "code",
   "execution_count": 19,
   "id": "4860fb38",
   "metadata": {},
   "outputs": [
    {
     "name": "stdout",
     "output_type": "stream",
     "text": [
      "\n",
      ". label define easyToQuitLabel ///\n",
      "> 0 \"Definitely not\" ///\n",
      "> 1 \"Probably not\" ///\n",
      "> 2 \"Probably yes\" ///\n",
      "> 3 \"Definitely yes\", replace\n",
      "\n",
      ". \n"
     ]
    }
   ],
   "source": [
    "%%stata\n",
    "label define easyToQuitLabel ///\n",
    "0 \"Definitely not\" ///\n",
    "1 \"Probably not\" ///\n",
    "2 \"Probably yes\" ///\n",
    "3 \"Definitely yes\", replace"
   ]
  },
  {
   "cell_type": "code",
   "execution_count": 20,
   "id": "a878b214",
   "metadata": {},
   "outputs": [
    {
     "name": "stdout",
     "output_type": "stream",
     "text": [
      "\n",
      ". generate easyToQuit = .\n",
      "(6,427 missing values generated)\n",
      "\n",
      ". label value easyToQuit easyToQuitLabel\n",
      "\n",
      ". replace easyToQuit =0 if CR41==1\n",
      "(1,837 real changes made)\n",
      "\n",
      ". replace easyToQuit =1 if CR41==2\n",
      "(1,279 real changes made)\n",
      "\n",
      ". replace easyToQuit =2 if CR41==3\n",
      "(1,314 real changes made)\n",
      "\n",
      ". replace easyToQuit =3 if CR41==4\n",
      "(1,800 real changes made)\n",
      "\n",
      ". \n"
     ]
    }
   ],
   "source": [
    "%%stata\n",
    "generate easyToQuit = .\n",
    "label value easyToQuit easyToQuitLabel\n",
    "replace easyToQuit =0 if CR41==1\n",
    "replace easyToQuit =1 if CR41==2\n",
    "replace easyToQuit =2 if CR41==3\n",
    "replace easyToQuit =3 if CR41==4"
   ]
  },
  {
   "cell_type": "code",
   "execution_count": 21,
   "id": "5e53452e",
   "metadata": {},
   "outputs": [
    {
     "name": "stdout",
     "output_type": "stream",
     "text": [
      "\n",
      ". tab easyToQuit\n",
      "\n",
      "    easyToQuit |      Freq.     Percent        Cum.\n",
      "---------------+-----------------------------------\n",
      "Definitely not |      1,837       29.49       29.49\n",
      "  Probably not |      1,279       20.53       50.02\n",
      "  Probably yes |      1,314       21.09       71.11\n",
      "Definitely yes |      1,800       28.89      100.00\n",
      "---------------+-----------------------------------\n",
      "         Total |      6,230      100.00\n",
      "\n",
      ". tab CR41\n",
      "\n",
      "       CR41 |      Freq.     Percent        Cum.\n",
      "------------+-----------------------------------\n",
      "          1 |      1,837       29.49       29.49\n",
      "          2 |      1,279       20.53       50.02\n",
      "          3 |      1,314       21.09       71.11\n",
      "          4 |      1,800       28.89      100.00\n",
      "------------+-----------------------------------\n",
      "      Total |      6,230      100.00\n",
      "\n",
      ". \n"
     ]
    }
   ],
   "source": [
    "%%stata\n",
    "tab easyToQuit\n",
    "tab CR41"
   ]
  },
  {
   "cell_type": "markdown",
   "id": "23f497e8",
   "metadata": {},
   "source": [
    "**Define smokingPresenceLabel as number of days someone smoked in the presence of respondent**"
   ]
  },
  {
   "cell_type": "code",
   "execution_count": 22,
   "id": "6e02a755",
   "metadata": {},
   "outputs": [
    {
     "name": "stdout",
     "output_type": "stream",
     "text": [
      "\n",
      ". label define smokingPresenceLabel ///\n",
      "> 0 \"0 Days\" ///\n",
      "> 1 \"1-2 Days\" ///\n",
      "> 2 \"3-4 Days\" ///\n",
      "> 3 \"5-6 Days\" ///\n",
      "> 4 \"7 days\", replace\n",
      "\n",
      ". \n"
     ]
    }
   ],
   "source": [
    "%%stata\n",
    "label define smokingPresenceLabel ///\n",
    "0 \"0 Days\" ///\n",
    "1 \"1-2 Days\" ///\n",
    "2 \"3-4 Days\" ///\n",
    "3 \"5-6 Days\" ///\n",
    "4 \"7 days\", replace"
   ]
  },
  {
   "cell_type": "code",
   "execution_count": 23,
   "id": "4ce65572",
   "metadata": {},
   "outputs": [
    {
     "name": "stdout",
     "output_type": "stream",
     "text": [
      "\n",
      ". generate smokingHome = .\n",
      "(6,427 missing values generated)\n",
      "\n",
      ". label value smokingHome smokingPresenceLabel\n",
      "\n",
      ". replace smokingHome =0 if CR19==1\n",
      "(4,446 real changes made)\n",
      "\n",
      ". replace smokingHome =1 if CR19==2\n",
      "(642 real changes made)\n",
      "\n",
      ". replace smokingHome =2 if CR19==3\n",
      "(302 real changes made)\n",
      "\n",
      ". replace smokingHome =3 if CR19==4\n",
      "(213 real changes made)\n",
      "\n",
      ". replace smokingHome =4 if CR19==5\n",
      "(642 real changes made)\n",
      "\n",
      ". \n"
     ]
    }
   ],
   "source": [
    "%%stata\n",
    "generate smokingHome = .\n",
    "label value smokingHome smokingPresenceLabel\n",
    "replace smokingHome =0 if CR19==1\n",
    "replace smokingHome =1 if CR19==2\n",
    "replace smokingHome =2 if CR19==3\n",
    "replace smokingHome =3 if CR19==4\n",
    "replace smokingHome =4 if CR19==5"
   ]
  },
  {
   "cell_type": "code",
   "execution_count": 24,
   "id": "3865f0a5",
   "metadata": {},
   "outputs": [
    {
     "name": "stdout",
     "output_type": "stream",
     "text": [
      "\n",
      ". generate smokingIndoors = .\n",
      "(6,427 missing values generated)\n",
      "\n",
      ". label value smokingIndoors smokingPresenceLabel\n",
      "\n",
      ". replace smokingIndoors =0 if CR20==1\n",
      "(2,843 real changes made)\n",
      "\n",
      ". replace smokingIndoors =1 if CR20==2\n",
      "(1,349 real changes made)\n",
      "\n",
      ". replace smokingIndoors =2 if CR20==3\n",
      "(647 real changes made)\n",
      "\n",
      ". replace smokingIndoors =3 if CR20==4\n",
      "(421 real changes made)\n",
      "\n",
      ". replace smokingIndoors =4 if CR20==5\n",
      "(1,038 real changes made)\n",
      "\n",
      ". \n"
     ]
    }
   ],
   "source": [
    "%%stata\n",
    "generate smokingIndoors = .\n",
    "label value smokingIndoors smokingPresenceLabel\n",
    "replace smokingIndoors =0 if CR20==1\n",
    "replace smokingIndoors =1 if CR20==2\n",
    "replace smokingIndoors =2 if CR20==3\n",
    "replace smokingIndoors =3 if CR20==4\n",
    "replace smokingIndoors =4 if CR20==5"
   ]
  },
  {
   "cell_type": "code",
   "execution_count": 25,
   "id": "1b82be3d",
   "metadata": {},
   "outputs": [
    {
     "name": "stdout",
     "output_type": "stream",
     "text": [
      "\n",
      ". generate smokingOutdoors = .\n",
      "(6,427 missing values generated)\n",
      "\n",
      ". label value smokingOutdoors smokingPresenceLabel\n",
      "\n",
      ". replace smokingOutdoors =0 if CR21==1\n",
      "(2,802 real changes made)\n",
      "\n",
      ". replace smokingOutdoors =1 if CR21==2\n",
      "(1,446 real changes made)\n",
      "\n",
      ". replace smokingOutdoors =2 if CR21==3\n",
      "(618 real changes made)\n",
      "\n",
      ". replace smokingOutdoors =3 if CR21==4\n",
      "(449 real changes made)\n",
      "\n",
      ". replace smokingOutdoors =4 if CR21==5\n",
      "(952 real changes made)\n",
      "\n",
      ". \n"
     ]
    }
   ],
   "source": [
    "%%stata\n",
    "generate smokingOutdoors = .\n",
    "label value smokingOutdoors smokingPresenceLabel\n",
    "replace smokingOutdoors =0 if CR21==1\n",
    "replace smokingOutdoors =1 if CR21==2\n",
    "replace smokingOutdoors =2 if CR21==3\n",
    "replace smokingOutdoors =3 if CR21==4\n",
    "replace smokingOutdoors =4 if CR21==5"
   ]
  },
  {
   "cell_type": "code",
   "execution_count": 26,
   "id": "354c64f8",
   "metadata": {},
   "outputs": [
    {
     "name": "stdout",
     "output_type": "stream",
     "text": [
      "\n",
      "(file Data/zimbabweSmokingSurvery.data not found)\n",
      "file Data/zimbabweSmokingSurvery.data saved as .dta format\n"
     ]
    }
   ],
   "source": [
    "%%stata\n",
    "save \"${data}/${country}SmokingSurvery.data\", replace"
   ]
  },
  {
   "cell_type": "code",
   "execution_count": null,
   "id": "0dc29ac7",
   "metadata": {},
   "outputs": [],
   "source": [
    "%%capture\n",
    "%stata log close"
   ]
  }
 ],
 "metadata": {
  "kernelspec": {
   "display_name": "Python 3",
   "language": "python",
   "name": "python3"
  },
  "language_info": {
   "codemirror_mode": {
    "name": "ipython",
    "version": 3
   },
   "file_extension": ".py",
   "mimetype": "text/x-python",
   "name": "python",
   "nbconvert_exporter": "python",
   "pygments_lexer": "ipython3",
   "version": "3.8.1"
  }
 },
 "nbformat": 4,
 "nbformat_minor": 5
}
