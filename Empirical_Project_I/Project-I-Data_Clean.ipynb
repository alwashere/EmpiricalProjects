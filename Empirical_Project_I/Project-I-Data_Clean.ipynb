{
 "cells": [
  {
   "cell_type": "code",
   "execution_count": 190,
   "id": "b23dcc8b",
   "metadata": {},
   "outputs": [],
   "source": [
    "import stata_setup\n",
    "stata_setup.config(\"/Applications/Stata 17\", \"be\")"
   ]
  },
  {
   "cell_type": "markdown",
   "id": "410aa21d",
   "metadata": {},
   "source": [
    "### Import the Distance to US Capital Data"
   ]
  },
  {
   "cell_type": "markdown",
   "id": "c48baa71",
   "metadata": {},
   "source": [
    "*Note: Country ISO Codes and missing data added to FRIET Country distance file*"
   ]
  },
  {
   "cell_type": "code",
   "execution_count": 191,
   "id": "83f38269",
   "metadata": {},
   "outputs": [
    {
     "name": "stdout",
     "output_type": "stream",
     "text": [
      "\n",
      ". frame create distUs\n",
      "\n",
      ". cwf distUs\n",
      "\n",
      ". \n"
     ]
    }
   ],
   "source": [
    "%%stata\n",
    "frame create distUs\n",
    "cwf distUs"
   ]
  },
  {
   "cell_type": "code",
   "execution_count": 192,
   "id": "bc2cbbec",
   "metadata": {},
   "outputs": [
    {
     "name": "stdout",
     "output_type": "stream",
     "text": [
      "\n",
      ". import excel \"Data/distToUS.xlsx\", sheet(\"Sheet1\") firstrow\n",
      "(4 vars, 219 obs)\n",
      "\n",
      ". describe\n",
      "\n",
      "Contains data\n",
      " Observations:           219                  \n",
      "    Variables:             4                  \n",
      "-------------------------------------------------------------------------------\n",
      "Variable      Storage   Display    Value\n",
      "    name         type    format    label      Variable label\n",
      "-------------------------------------------------------------------------------\n",
      "countryName     str32   %32s                  countryName\n",
      "iso3Code        str3    %9s                   iso3Code\n",
      "overSeasTerr    str3    %9s                   overSeasTerr\n",
      "distanceKm      double  %10.0g                distanceKm\n",
      "-------------------------------------------------------------------------------\n",
      "Sorted by: \n",
      "     Note: Dataset has changed since last saved.\n",
      "\n",
      ". \n"
     ]
    }
   ],
   "source": [
    "%%stata\n",
    "import excel \"Data/distToUS.xlsx\", sheet(\"Sheet1\") firstrow\n",
    "describe"
   ]
  },
  {
   "cell_type": "code",
   "execution_count": 193,
   "id": "593d856a",
   "metadata": {},
   "outputs": [
    {
     "name": "stdout",
     "output_type": "stream",
     "text": [
      "\n",
      ". label variable distanceKm \"distance from USA Capital to Country Capital\"\n",
      "\n",
      ". label variable iso3Code \"ISO-3 Character Country Code\"\n",
      "\n",
      ". label variable overSeasTerr \"Country Code of Country this observation is an t\n",
      "> eritory of\"\n",
      "\n",
      ". describe\n",
      "\n",
      "Contains data\n",
      " Observations:           219                  \n",
      "    Variables:             4                  \n",
      "-------------------------------------------------------------------------------\n",
      "Variable      Storage   Display    Value\n",
      "    name         type    format    label      Variable label\n",
      "-------------------------------------------------------------------------------\n",
      "countryName     str32   %32s                  countryName\n",
      "iso3Code        str3    %9s                   ISO-3 Character Country Code\n",
      "overSeasTerr    str3    %9s                   Country Code of Country this\n",
      "                                                observation is an teritory of\n",
      "distanceKm      double  %10.0g                distance from USA Capital to\n",
      "                                                Country Capital\n",
      "-------------------------------------------------------------------------------\n",
      "Sorted by: \n",
      "     Note: Dataset has changed since last saved.\n",
      "\n",
      ". \n"
     ]
    }
   ],
   "source": [
    "%%stata\n",
    "label variable distanceKm \"distance from USA Capital to Country Capital\"\n",
    "label variable iso3Code \"ISO-3 Character Country Code\"\n",
    "label variable overSeasTerr \"Country Code of Country this observation is an teritory of\"\n",
    "describe"
   ]
  },
  {
   "cell_type": "code",
   "execution_count": 194,
   "id": "674666ea",
   "metadata": {},
   "outputs": [
    {
     "name": "stdout",
     "output_type": "stream",
     "text": [
      "\n",
      ". cwf distUs\n",
      "\n",
      ". duplicates tag iso3Code, generate(dup)\n",
      "\n",
      "Duplicates in terms of iso3Code\n",
      "\n",
      ". list countryName iso3Code if dup==1\n",
      "\n",
      ". \n"
     ]
    }
   ],
   "source": [
    "%%stata\n",
    "cwf distUs\n",
    "duplicates tag iso3Code, generate(dup)\n",
    "list countryName iso3Code if dup==1"
   ]
  },
  {
   "cell_type": "markdown",
   "id": "6ec96885",
   "metadata": {},
   "source": [
    "*Duplicates adjusted in the source file*"
   ]
  },
  {
   "cell_type": "markdown",
   "id": "19b8d7c9",
   "metadata": {},
   "source": [
    "---"
   ]
  },
  {
   "cell_type": "markdown",
   "id": "339f979f",
   "metadata": {},
   "source": [
    "## Import Languages and Link to Distance Data"
   ]
  },
  {
   "cell_type": "code",
   "execution_count": 195,
   "id": "38f57a7c",
   "metadata": {},
   "outputs": [
    {
     "name": "stdout",
     "output_type": "stream",
     "text": [
      "\n",
      ". frame create lang\n",
      "\n",
      ". cwf lang\n",
      "\n",
      ". import excel \"Data/languages.xlsx\", sheet(\"Sheet1\") firstrow\n",
      "(4 vars, 164 obs)\n",
      "\n",
      ". describe\n",
      "\n",
      "Contains data\n",
      " Observations:           164                  \n",
      "    Variables:             4                  \n",
      "-------------------------------------------------------------------------------\n",
      "Variable      Storage   Display    Value\n",
      "    name         type    format    label      Variable label\n",
      "-------------------------------------------------------------------------------\n",
      "langCode        byte    %10.0g                langCode\n",
      "langName        str14   %14s                  langName\n",
      "countryName     str32   %32s                  countryName\n",
      "iso3Code        str3    %9s                   iso3Code\n",
      "-------------------------------------------------------------------------------\n",
      "Sorted by: \n",
      "     Note: Dataset has changed since last saved.\n",
      "\n",
      ". \n"
     ]
    }
   ],
   "source": [
    "%%stata\n",
    "frame create lang\n",
    "cwf lang\n",
    "import excel \"Data/languages.xlsx\", sheet(\"Sheet1\") firstrow\n",
    "describe"
   ]
  },
  {
   "cell_type": "markdown",
   "id": "c518647a",
   "metadata": {},
   "source": [
    "In the languages file, English == 5."
   ]
  },
  {
   "cell_type": "code",
   "execution_count": 196,
   "id": "2d68c310",
   "metadata": {},
   "outputs": [
    {
     "name": "stdout",
     "output_type": "stream",
     "text": [
      "\n",
      ". gen common_lang = 1 if langCode==5\n",
      "(126 missing values generated)\n",
      "\n",
      ". list if common_lang == 1\n",
      "\n",
      "     +----------------------------------------------------------------------+\n",
      "     | langCode   langName                countryName   iso3Code   common~g |\n",
      "     |----------------------------------------------------------------------|\n",
      "  6. |        5    English                  Australia        AUS          1 |\n",
      "  8. |        5    English                    Bahamas        BHS          1 |\n",
      " 11. |        5    English                   Barbados        BRB          1 |\n",
      " 13. |        5    English                     Belize        BLZ          1 |\n",
      " 15. |        5    English                    Bermuda        BMU          1 |\n",
      "     |----------------------------------------------------------------------|\n",
      " 26. |        5    English                     Canada        CAN          1 |\n",
      " 27. |        5    English             Cayman Islands        CYM          1 |\n",
      " 49. |        5    English                       Fiji        FJI          1 |\n",
      " 57. |        5    English                     Gambia        GMB          1 |\n",
      " 59. |        5    English                      Ghana        GHA          1 |\n",
      "     |----------------------------------------------------------------------|\n",
      " 67. |        5    English                     Guyana        GUY          1 |\n",
      " 70. |        5    English                  Hong Kong        HKG          1 |\n",
      " 73. |        5    English                      India        IND          1 |\n",
      " 77. |        5    English                    Ireland        IRL          1 |\n",
      " 80. |        5    English                    Jamaica        JAM          1 |\n",
      "     |----------------------------------------------------------------------|\n",
      " 83. |        5    English                      Kenya        KEN          1 |\n",
      " 84. |        5    English                   Kiribati        KIR          1 |\n",
      " 90. |        5    English                    Liberia        LBR          1 |\n",
      " 93. |        5    English                     Malawi        MWI          1 |\n",
      " 95. |        5    English                   Maldives        MDV          1 |\n",
      "     |----------------------------------------------------------------------|\n",
      " 97. |        5    English                      Malta        MLT          1 |\n",
      " 99. |        5    English                  Mauritius        MUS          1 |\n",
      "109. |        5    English                New Zealand        NZL          1 |\n",
      "112. |        5    English                    Nigeria        NGA          1 |\n",
      "117. |        5    English           Papua New Guinea        PNG          1 |\n",
      "     |----------------------------------------------------------------------|\n",
      "120. |        5    English                Philippines        PHL          1 |\n",
      "129. |        5    English                 Seychelles        SYC          1 |\n",
      "130. |        5    English               Sierra Leone        SLE          1 |\n",
      "132. |        5    English            Solomon Islands        SLB          1 |\n",
      "134. |        5    English               South Africa        ZAF          1 |\n",
      "     |----------------------------------------------------------------------|\n",
      "138. |        5    English      Saint Kitts and Nevis        SHN          1 |\n",
      "148. |        5    English        Trinidad and Tobago        TTO          1 |\n",
      "151. |        5    English   Turks and Caicos Islands        TCA          1 |\n",
      "152. |        5    English                     Uganda        UGA          1 |\n",
      "153. |        5    English             United Kingdom        GBR          1 |\n",
      "     |----------------------------------------------------------------------|\n",
      "157. |        5    English              United States        USA          1 |\n",
      "163. |        5    English                     Zambia        ZMB          1 |\n",
      "164. |        5    English                   Zimbabwe        ZWE          1 |\n",
      "     +----------------------------------------------------------------------+\n",
      "\n",
      ". \n"
     ]
    }
   ],
   "source": [
    "%%stata\n",
    "gen common_lang = 1 if langCode==5\n",
    "list if common_lang == 1"
   ]
  },
  {
   "cell_type": "code",
   "execution_count": 197,
   "id": "a8ac9472",
   "metadata": {},
   "outputs": [],
   "source": [
    "%%stata\n",
    "replace common_lang=0 if common_lang==."
   ]
  },
  {
   "cell_type": "code",
   "execution_count": 198,
   "id": "a872b95c",
   "metadata": {},
   "outputs": [
    {
     "name": "stdout",
     "output_type": "stream",
     "text": [
      "\n",
      "common_lang |      Freq.     Percent        Cum.\n",
      "------------+-----------------------------------\n",
      "          0 |        126       76.83       76.83\n",
      "          1 |         38       23.17      100.00\n",
      "------------+-----------------------------------\n",
      "      Total |        164      100.00\n"
     ]
    }
   ],
   "source": [
    "%%stata\n",
    "tab common_lang"
   ]
  },
  {
   "cell_type": "code",
   "execution_count": 199,
   "id": "0aebca4a",
   "metadata": {},
   "outputs": [
    {
     "name": "stdout",
     "output_type": "stream",
     "text": [
      "\n",
      ". duplicates tag iso3Code, generate(dup)\n",
      "\n",
      "Duplicates in terms of iso3Code\n",
      "\n",
      ". list countryName iso3Code if dup==1\n",
      "\n",
      ". \n"
     ]
    }
   ],
   "source": [
    "%%stata\n",
    "duplicates tag iso3Code, generate(dup)\n",
    "list countryName iso3Code if dup==1"
   ]
  },
  {
   "cell_type": "code",
   "execution_count": 200,
   "id": "2b03771e",
   "metadata": {},
   "outputs": [
    {
     "name": "stdout",
     "output_type": "stream",
     "text": [
      "(12 observations deleted)\n"
     ]
    }
   ],
   "source": [
    "%%stata\n",
    "drop if iso3Code==\"\""
   ]
  },
  {
   "cell_type": "markdown",
   "id": "17aedc28",
   "metadata": {},
   "source": [
    "iso3Code is unique in the language dataset"
   ]
  },
  {
   "cell_type": "markdown",
   "id": "2785748d",
   "metadata": {},
   "source": [
    "---"
   ]
  },
  {
   "cell_type": "markdown",
   "id": "26ccf9d3",
   "metadata": {},
   "source": [
    "## Import 2014 US Exports data"
   ]
  },
  {
   "cell_type": "code",
   "execution_count": 201,
   "id": "f3ed13e6",
   "metadata": {},
   "outputs": [
    {
     "name": "stdout",
     "output_type": "stream",
     "text": [
      "\n",
      ". frame create usExports\n",
      "\n",
      ". cwf usExports\n",
      "\n",
      ". import excel \"Data/us_merch_exports_2014.xlsx\", sheet(\"USEXPORTS\") firstrow\n",
      "(3 vars, 219 obs)\n",
      "\n",
      ". describe\n",
      "\n",
      "Contains data\n",
      " Observations:           219                  \n",
      "    Variables:             3                  \n",
      "-------------------------------------------------------------------------------\n",
      "Variable      Storage   Display    Value\n",
      "    name         type    format    label      Variable label\n",
      "-------------------------------------------------------------------------------\n",
      "country         str32   %32s                  country\n",
      "iso3Code        str3    %9s                   iso3Code\n",
      "usExp           double  %10.0g                usExp\n",
      "-------------------------------------------------------------------------------\n",
      "Sorted by: \n",
      "     Note: Dataset has changed since last saved.\n",
      "\n",
      ". \n"
     ]
    }
   ],
   "source": [
    "%%stata\n",
    "frame create usExports\n",
    "cwf usExports\n",
    "import excel \"Data/us_merch_exports_2014.xlsx\", sheet(\"USEXPORTS\") firstrow\n",
    "describe"
   ]
  },
  {
   "cell_type": "markdown",
   "id": "341fb029",
   "metadata": {},
   "source": [
    "**Check for duplicates or other data errors.**"
   ]
  },
  {
   "cell_type": "code",
   "execution_count": 202,
   "id": "8a933ea4",
   "metadata": {},
   "outputs": [
    {
     "name": "stdout",
     "output_type": "stream",
     "text": [
      "\n",
      ". cwf usExports\n",
      "\n",
      ". duplicates tag iso3Code, generate(dup)\n",
      "\n",
      "Duplicates in terms of iso3Code\n",
      "\n",
      ". list country iso3Code if dup==1\n",
      "\n",
      ". \n"
     ]
    }
   ],
   "source": [
    "%%stata\n",
    "cwf usExports\n",
    "duplicates tag iso3Code, generate(dup)\n",
    "list country iso3Code if dup==1"
   ]
  },
  {
   "cell_type": "markdown",
   "id": "d773af71",
   "metadata": {},
   "source": [
    "**All iso3Codes values are now unique**"
   ]
  },
  {
   "cell_type": "markdown",
   "id": "521e02b7",
   "metadata": {},
   "source": [
    "---"
   ]
  },
  {
   "cell_type": "markdown",
   "id": "04a96400",
   "metadata": {},
   "source": [
    "## Import 2014 GDP Data"
   ]
  },
  {
   "cell_type": "code",
   "execution_count": 203,
   "id": "a3c7d02b",
   "metadata": {},
   "outputs": [
    {
     "name": "stdout",
     "output_type": "stream",
     "text": [
      "\n",
      ". frame create gdp2014\n",
      "\n",
      ". cwf gdp2014\n",
      "\n",
      ". \n"
     ]
    }
   ],
   "source": [
    "%%stata\n",
    "frame create gdp2014\n",
    "cwf gdp2014"
   ]
  },
  {
   "cell_type": "code",
   "execution_count": 204,
   "id": "11fb7c03",
   "metadata": {},
   "outputs": [
    {
     "name": "stdout",
     "output_type": "stream",
     "text": [
      "\n",
      ". import excel \"Data/gdpByCountry2014.xlsx\", sheet(\"Sheet1\") firstrow\n",
      "(3 vars, 264 obs)\n",
      "\n",
      ". describe\n",
      "\n",
      "Contains data\n",
      " Observations:           264                  \n",
      "    Variables:             3                  \n",
      "-------------------------------------------------------------------------------\n",
      "Variable      Storage   Display    Value\n",
      "    name         type    format    label      Variable label\n",
      "-------------------------------------------------------------------------------\n",
      "country         str52   %52s                  country\n",
      "iso3Code        str3    %9s                   iso3Code\n",
      "gdp             double  %10.0g                gdp\n",
      "-------------------------------------------------------------------------------\n",
      "Sorted by: \n",
      "     Note: Dataset has changed since last saved.\n",
      "\n",
      ". duplicates list iso3Code\n",
      "\n",
      "Duplicates in terms of iso3Code\n",
      "\n",
      "(0 observations are duplicates)\n",
      "\n",
      ". \n"
     ]
    }
   ],
   "source": [
    "%%stata\n",
    "import excel \"Data/gdpByCountry2014.xlsx\", sheet(\"Sheet1\") firstrow\n",
    "describe\n",
    "duplicates list iso3Code"
   ]
  },
  {
   "cell_type": "markdown",
   "id": "b4b6349e",
   "metadata": {},
   "source": [
    "---"
   ]
  },
  {
   "cell_type": "markdown",
   "id": "d331f317",
   "metadata": {},
   "source": [
    "## Create links between dataframes and generate a master dataset"
   ]
  },
  {
   "cell_type": "code",
   "execution_count": 205,
   "id": "c5385c1a",
   "metadata": {},
   "outputs": [
    {
     "name": "stdout",
     "output_type": "stream",
     "text": [
      "\n",
      "  default    0 x 0\n",
      "* distUs     219 x 5\n",
      "* gdp2014    264 x 3\n",
      "* lang       152 x 6\n",
      "* usExports  219 x 4\n",
      "\n",
      "Note: Frames marked with * contain unsaved data.\n"
     ]
    }
   ],
   "source": [
    "%%stata\n",
    "frame dir"
   ]
  },
  {
   "cell_type": "markdown",
   "id": "b2cdebfe",
   "metadata": {},
   "source": [
    "#### Link GDP 2014 File"
   ]
  },
  {
   "cell_type": "code",
   "execution_count": 206,
   "id": "3b6515b6",
   "metadata": {},
   "outputs": [
    {
     "name": "stdout",
     "output_type": "stream",
     "text": [
      "\n",
      ". cwf distUs\n",
      "\n",
      ". frlink 1:1 iso3Code, frame(gdp2014)\n",
      "  (17 observations in frame distUs unmatched)\n",
      "\n",
      ". frget gdp, from(gdp2014)\n",
      "(29 missing values generated)\n",
      "  (1 variable copied from linked frame)\n",
      "\n",
      ". list country iso3Code gdp if gdp==.\n",
      "\n",
      "     +-------------------------------------------------+\n",
      "     |                    countryName   iso3Code   gdp |\n",
      "     |-------------------------------------------------|\n",
      "  6. |                       Anguilla        AIA     . |\n",
      " 10. |                          Aruba        ABW     . |\n",
      " 22. |                        Bermuda        BMU     . |\n",
      " 28. | British Indian Ocean Territory        IOT     . |\n",
      " 29. |         British Virgin Islands        VGB     . |\n",
      "     |-------------------------------------------------|\n",
      " 40. |                 Cayman Islands        CYM     . |\n",
      " 45. |               Christmas Island        CXR     . |\n",
      " 46. |        Cocos (Keeling) Islands        CCK     . |\n",
      " 50. |                   Cook Islands        COK     . |\n",
      " 54. |                        Curacao        CUW     . |\n",
      "     |-------------------------------------------------|\n",
      " 66. |                        Eritrea        ERI     . |\n",
      " 69. |    Falkland Islands (Malvinas)        FLK     . |\n",
      " 74. |                  French Guiana        GUF     . |\n",
      " 75. |               French Polynesia        PYF     . |\n",
      " 81. |                      Gibraltar        GIB     . |\n",
      "     |-------------------------------------------------|\n",
      " 85. |                     Guadeloupe        GLP     . |\n",
      "128. |                     Martinique        MYQ     . |\n",
      "134. |                         Monaco        MCO     . |\n",
      "137. |                     Montserrat        MSR     . |\n",
      "144. |                  New Caledonia        NCL     . |\n",
      "     |-------------------------------------------------|\n",
      "149. |                           Niue        NIU     . |\n",
      "162. |                        Reunion        REU     . |\n",
      "166. |                   Saint Helena        SHN     . |\n",
      "169. |      Saint Pierre and Miquelon        SPM     . |\n",
      "194. |           Syrian Arab Republic        SYR     . |\n",
      "     |-------------------------------------------------|\n",
      "195. |                         Taiwan        TWN     . |\n",
      "205. |       Turks and Caicos Islands        TCA     . |\n",
      "213. |                   Vatican City        VAT     . |\n",
      "216. |              Wallis and Futuna        WLF     . |\n",
      "     +-------------------------------------------------+\n",
      "\n",
      ". \n"
     ]
    }
   ],
   "source": [
    "%%stata\n",
    "cwf distUs\n",
    "frlink 1:1 iso3Code, frame(gdp2014)\n",
    "frget gdp, from(gdp2014)\n",
    "list country iso3Code gdp if gdp==."
   ]
  },
  {
   "cell_type": "markdown",
   "id": "11748db0",
   "metadata": {},
   "source": [
    "#### Link Language File"
   ]
  },
  {
   "cell_type": "code",
   "execution_count": 207,
   "id": "ed929a0e",
   "metadata": {},
   "outputs": [
    {
     "name": "stdout",
     "output_type": "stream",
     "text": [
      "\n",
      ". cwf distUs\n",
      "\n",
      ". frlink 1:1 iso3Code, frame(lang)\n",
      "  (68 observations in frame distUs unmatched)\n",
      "\n",
      ". frget common_lang, from(lang)\n",
      "(68 missing values generated)\n",
      "  (1 variable copied from linked frame)\n",
      "\n",
      ". list country iso3Code common_lang if common_lang==.\n",
      "\n",
      "     +--------------------------------------------------------+\n",
      "     |                      countryName   iso3Code   common~g |\n",
      "     |--------------------------------------------------------|\n",
      "  4. |                          Andorra        AND          . |\n",
      "  6. |                         Anguilla        AIA          . |\n",
      "  7. |              Antigua and Barbuda        ATG          . |\n",
      "  9. |                          Armenia        ARM          . |\n",
      " 10. |                            Aruba        ABW          . |\n",
      "     |--------------------------------------------------------|\n",
      " 13. |                       Azerbaijan        AZE          . |\n",
      " 18. |                          Belarus        BLR          . |\n",
      " 25. |           Bosnia and Herzegovina        BIH          . |\n",
      " 26. |                         Botswana        BWA          . |\n",
      " 28. |   British Indian Ocean Territory        IOT          . |\n",
      "     |--------------------------------------------------------|\n",
      " 29. |           British Virgin Islands        VGB          . |\n",
      " 35. |                   CÃ´te d'Ivoire        CIV          . |\n",
      " 39. |                       Cape Verde        CPV          . |\n",
      " 45. |                 Christmas Island        CXR          . |\n",
      " 46. |          Cocos (Keeling) Islands        CCK          . |\n",
      "     |--------------------------------------------------------|\n",
      " 50. |                     Cook Islands        COK          . |\n",
      " 52. |                          Croatia        HRV          . |\n",
      " 54. |                          Curacao        CUW          . |\n",
      " 57. |     Democratic Republic of Congo        COD          . |\n",
      " 60. |                         Dominica        DMA          . |\n",
      "     |--------------------------------------------------------|\n",
      " 66. |                          Eritrea        ERI          . |\n",
      " 67. |                          Estonia        EST          . |\n",
      " 69. |      Falkland Islands (Malvinas)        FLK          . |\n",
      " 70. |                    Faroe Islands        FRO          . |\n",
      " 75. |                 French Polynesia        PYF          . |\n",
      "     |--------------------------------------------------------|\n",
      " 78. |                          Georgia        GEO          . |\n",
      " 85. |                       Guadeloupe        GLP          . |\n",
      "105. |                       Kazakhstan        KAZ          . |\n",
      "109. |                       Kyrgyzstan        KGZ          . |\n",
      "111. |                           Latvia        LVA          . |\n",
      "     |--------------------------------------------------------|\n",
      "113. |                          Lesotho        LSO          . |\n",
      "116. |                    Liechtenstein        LIE          . |\n",
      "117. |                        Lithuania        LTU          . |\n",
      "118. |                       Luxembourg        LUX          . |\n",
      "119. |              Macau; SAR of China        MAC          . |\n",
      "     |--------------------------------------------------------|\n",
      "120. |                        Macedonia        MKD          . |\n",
      "127. |                 Marshall Islands        MHL          . |\n",
      "128. |                       Martinique        MYQ          . |\n",
      "133. |             Moldova; Republic of        MDA          . |\n",
      "134. |                           Monaco        MCO          . |\n",
      "     |--------------------------------------------------------|\n",
      "136. |                       Montenegro        MNE          . |\n",
      "137. |                       Montserrat        MSR          . |\n",
      "140. |                          Namibia        NAM          . |\n",
      "141. |                            Nauru        NRU          . |\n",
      "149. |                             Niue        NIU          . |\n",
      "     |--------------------------------------------------------|\n",
      "153. |                            Palau        PLW          . |\n",
      "164. |               Russian Federation        RUS          . |\n",
      "167. |            Saint Kitts and Nevis        KNA          . |\n",
      "168. |                      Saint Lucia        LCA          . |\n",
      "169. |        Saint Pierre and Miquelon        SPM          . |\n",
      "     |--------------------------------------------------------|\n",
      "170. | Saint Vincent and the Grenadines        VCT          . |\n",
      "171. |                            Samoa        WSM          . |\n",
      "172. |                       San Marino        SMR          . |\n",
      "173. |            Sao Tome and Principe        STP          . |\n",
      "176. |                           Serbia        SRB          . |\n",
      "     |--------------------------------------------------------|\n",
      "180. |                         Slovakia        SVK          . |\n",
      "181. |                         Slovenia        SVN          . |\n",
      "185. |                      South Korea        KOR          . |\n",
      "186. |                      South Sudan        SSD          . |\n",
      "191. |                        Swaziland        SWZ          . |\n",
      "     |--------------------------------------------------------|\n",
      "196. |                       Tajikistan        TJK          . |\n",
      "200. |                            Tonga        TON          . |\n",
      "204. |                     Turkmenistan        TKM          . |\n",
      "207. |                          Ukraine        UKR          . |\n",
      "211. |                       Uzbekistan        UZB          . |\n",
      "     |--------------------------------------------------------|\n",
      "212. |                          Vanuatu        VUT          . |\n",
      "213. |                     Vatican City        VAT          . |\n",
      "216. |                Wallis and Futuna        WLF          . |\n",
      "     +--------------------------------------------------------+\n",
      "\n",
      ". \n"
     ]
    }
   ],
   "source": [
    "%%stata\n",
    "cwf distUs\n",
    "frlink 1:1 iso3Code, frame(lang)\n",
    "frget common_lang, from(lang)\n",
    "list country iso3Code common_lang if common_lang==."
   ]
  },
  {
   "cell_type": "code",
   "execution_count": 208,
   "id": "77e9d55d",
   "metadata": {},
   "outputs": [
    {
     "name": "stdout",
     "output_type": "stream",
     "text": [
      "\n",
      ". * Set Missing Values to 0, not English\n",
      ". replace common_lang=0 if common_lang==.\n",
      "(68 real changes made)\n",
      "\n",
      ". \n"
     ]
    }
   ],
   "source": [
    "%%stata\n",
    "* Set Missing Values to 0, not English\n",
    "replace common_lang=0 if common_lang==."
   ]
  },
  {
   "cell_type": "markdown",
   "id": "bb25cc3b",
   "metadata": {},
   "source": [
    "#### Link US Exports File"
   ]
  },
  {
   "cell_type": "code",
   "execution_count": 209,
   "id": "d685f1f3",
   "metadata": {},
   "outputs": [
    {
     "name": "stdout",
     "output_type": "stream",
     "text": [
      "\n",
      ". frlink 1:1 iso3Code, frame(usExports)\n",
      "  (all observations in frame distUs matched)\n",
      "\n",
      ". frget usExp=usExp, from (usExports)\n",
      "  (1 variable copied from linked frame)\n",
      "\n",
      ". list country iso3Code gdp if usExports==.\n",
      "\n",
      ". \n"
     ]
    }
   ],
   "source": [
    "%%stata\n",
    "frlink 1:1 iso3Code, frame(usExports)\n",
    "frget usExp=usExp, from (usExports)\n",
    "list country iso3Code gdp if usExports==."
   ]
  },
  {
   "cell_type": "code",
   "execution_count": 210,
   "id": "39e6c45c",
   "metadata": {},
   "outputs": [
    {
     "name": "stdout",
     "output_type": "stream",
     "text": [
      "\n",
      "Contains data\n",
      " Observations:           219                  \n",
      "    Variables:            11                  \n",
      "-------------------------------------------------------------------------------\n",
      "Variable      Storage   Display    Value\n",
      "    name         type    format    label      Variable label\n",
      "-------------------------------------------------------------------------------\n",
      "countryName     str32   %32s                  countryName\n",
      "iso3Code        str3    %9s                   ISO-3 Character Country Code\n",
      "overSeasTerr    str3    %9s                   Country Code of Country this\n",
      "                                                observation is an teritory of\n",
      "distanceKm      double  %10.0g                distance from USA Capital to\n",
      "                                                Country Capital\n",
      "dup             byte    %12.0g                \n",
      "gdp2014         int     %10.0g                \n",
      "gdp             double  %10.0g                gdp\n",
      "lang            int     %10.0g                \n",
      "common_lang     float   %9.0g                 \n",
      "usExports       int     %10.0g                \n",
      "usExp           double  %10.0g                usExp\n",
      "-------------------------------------------------------------------------------\n",
      "Sorted by: \n",
      "     Note: Dataset has changed since last saved.\n"
     ]
    }
   ],
   "source": [
    "%%stata\n",
    "describe"
   ]
  },
  {
   "cell_type": "code",
   "execution_count": 211,
   "id": "b082b161",
   "metadata": {},
   "outputs": [
    {
     "name": "stdout",
     "output_type": "stream",
     "text": [
      "\n",
      ". label variable common_lang \"=1 if English is the langauge of the country. Oth\n",
      "> erwise =0\"\n",
      "\n",
      ". label variable usExp \"Value of US Exports to country in 2014\"\n",
      "\n",
      ". label variable gdp \"Country GDP in 2014\"\n",
      "\n",
      ". describe\n",
      "\n",
      "Contains data\n",
      " Observations:           219                  \n",
      "    Variables:            11                  \n",
      "-------------------------------------------------------------------------------\n",
      "Variable      Storage   Display    Value\n",
      "    name         type    format    label      Variable label\n",
      "-------------------------------------------------------------------------------\n",
      "countryName     str32   %32s                  countryName\n",
      "iso3Code        str3    %9s                   ISO-3 Character Country Code\n",
      "overSeasTerr    str3    %9s                   Country Code of Country this\n",
      "                                                observation is an teritory of\n",
      "distanceKm      double  %10.0g                distance from USA Capital to\n",
      "                                                Country Capital\n",
      "dup             byte    %12.0g                \n",
      "gdp2014         int     %10.0g                \n",
      "gdp             double  %10.0g                Country GDP in 2014\n",
      "lang            int     %10.0g                \n",
      "common_lang     float   %9.0g                 =1 if English is the langauge of\n",
      "                                                the country. Otherwise =0\n",
      "usExports       int     %10.0g                \n",
      "usExp           double  %10.0g                Value of US Exports to country in\n",
      "                                                2014\n",
      "-------------------------------------------------------------------------------\n",
      "Sorted by: \n",
      "     Note: Dataset has changed since last saved.\n",
      "\n",
      ". \n"
     ]
    }
   ],
   "source": [
    "%%stata\n",
    "label variable common_lang \"=1 if English is the langauge of the country. Otherwise =0\"\n",
    "label variable usExp \"Value of US Exports to country in 2014\"\n",
    "label variable gdp \"Country GDP in 2014\"\n",
    "describe"
   ]
  },
  {
   "cell_type": "code",
   "execution_count": 212,
   "id": "7700141a",
   "metadata": {},
   "outputs": [
    {
     "name": "stdout",
     "output_type": "stream",
     "text": [
      "\n",
      ". * Drop the link variables from the dataset\n",
      ". drop gdp2014 usExports lang\n",
      "\n",
      ". \n"
     ]
    }
   ],
   "source": [
    "%%stata\n",
    "* Drop the link variables from the dataset\n",
    "drop gdp2014 usExports lang"
   ]
  },
  {
   "cell_type": "code",
   "execution_count": 213,
   "id": "a505a74b",
   "metadata": {},
   "outputs": [
    {
     "name": "stdout",
     "output_type": "stream",
     "text": [
      "\n",
      "Contains data\n",
      " Observations:           219                  \n",
      "    Variables:             8                  \n",
      "-------------------------------------------------------------------------------\n",
      "Variable      Storage   Display    Value\n",
      "    name         type    format    label      Variable label\n",
      "-------------------------------------------------------------------------------\n",
      "countryName     str32   %32s                  countryName\n",
      "iso3Code        str3    %9s                   ISO-3 Character Country Code\n",
      "overSeasTerr    str3    %9s                   Country Code of Country this\n",
      "                                                observation is an teritory of\n",
      "distanceKm      double  %10.0g                distance from USA Capital to\n",
      "                                                Country Capital\n",
      "dup             byte    %12.0g                \n",
      "gdp             double  %10.0g                Country GDP in 2014\n",
      "common_lang     float   %9.0g                 =1 if English is the langauge of\n",
      "                                                the country. Otherwise =0\n",
      "usExp           double  %10.0g                Value of US Exports to country in\n",
      "                                                2014\n",
      "-------------------------------------------------------------------------------\n",
      "Sorted by: \n",
      "     Note: Dataset has changed since last saved.\n"
     ]
    }
   ],
   "source": [
    "%%stata\n",
    "describe"
   ]
  },
  {
   "cell_type": "markdown",
   "id": "24051828",
   "metadata": {},
   "source": [
    "### Create natural log forms if distanceKm, usExp, and gdp"
   ]
  },
  {
   "cell_type": "code",
   "execution_count": 214,
   "id": "44fa18c8",
   "metadata": {},
   "outputs": [
    {
     "name": "stdout",
     "output_type": "stream",
     "text": [
      "\n",
      ". generate ldist = log(distanceKm)\n",
      "(10 missing values generated)\n",
      "\n",
      ". label variable ldist \"ln(distanceKm)\"\n",
      "\n",
      ". generate lUsExp = log(usExp)\n",
      "\n",
      ". label variable lUsExp \"ln(usExp)\"\n",
      "\n",
      ". generate lGdp = log(gdp)\n",
      "(29 missing values generated)\n",
      "\n",
      ". label variable lGdp \"ln(gdp)\"\n",
      "\n",
      ". describe\n",
      "\n",
      "Contains data\n",
      " Observations:           219                  \n",
      "    Variables:            11                  \n",
      "-------------------------------------------------------------------------------\n",
      "Variable      Storage   Display    Value\n",
      "    name         type    format    label      Variable label\n",
      "-------------------------------------------------------------------------------\n",
      "countryName     str32   %32s                  countryName\n",
      "iso3Code        str3    %9s                   ISO-3 Character Country Code\n",
      "overSeasTerr    str3    %9s                   Country Code of Country this\n",
      "                                                observation is an teritory of\n",
      "distanceKm      double  %10.0g                distance from USA Capital to\n",
      "                                                Country Capital\n",
      "dup             byte    %12.0g                \n",
      "gdp             double  %10.0g                Country GDP in 2014\n",
      "common_lang     float   %9.0g                 =1 if English is the langauge of\n",
      "                                                the country. Otherwise =0\n",
      "usExp           double  %10.0g                Value of US Exports to country in\n",
      "                                                2014\n",
      "ldist           float   %9.0g                 ln(distanceKm)\n",
      "lUsExp          float   %9.0g                 ln(usExp)\n",
      "lGdp            float   %9.0g                 ln(gdp)\n",
      "-------------------------------------------------------------------------------\n",
      "Sorted by: \n",
      "     Note: Dataset has changed since last saved.\n",
      "\n",
      ". \n"
     ]
    }
   ],
   "source": [
    "%%stata\n",
    "generate ldist = log(distanceKm)\n",
    "label variable ldist \"ln(distanceKm)\"\n",
    "generate lUsExp = log(usExp)\n",
    "label variable lUsExp \"ln(usExp)\"\n",
    "generate lGdp = log(gdp)\n",
    "label variable lGdp \"ln(gdp)\"\n",
    "describe"
   ]
  },
  {
   "cell_type": "markdown",
   "id": "4ede0c77",
   "metadata": {},
   "source": [
    "### Add Trade Agreement Indicator variables for Jordan and Chile"
   ]
  },
  {
   "cell_type": "markdown",
   "id": "a4ed49de",
   "metadata": {},
   "source": [
    "Examine impact of the trade agreements\n",
    "* US-Jordan [JOR]. Agreement in place since 2001.\n",
    "* US-Chile [CHL]. Agreement in place since 2004."
   ]
  },
  {
   "cell_type": "code",
   "execution_count": 215,
   "id": "4ed84c52",
   "metadata": {},
   "outputs": [
    {
     "name": "stdout",
     "output_type": "stream",
     "text": [
      "\n",
      ". generate tradeAgreement = iso3Code==\"CHL\" |iso3Code== \"JOR\"\n",
      "\n",
      ". label variable tradeAgreement \"=1 if USA has bilateral trade agreement, JOR &\n",
      ">  CHL only. =0 otherwise\"\n",
      "\n",
      ". tab tradeAgreement\n",
      "\n",
      "  =1 if USA |\n",
      "        has |\n",
      "  bilateral |\n",
      "      trade |\n",
      " agreement, |\n",
      "  JOR & CHL |\n",
      "   only. =0 |\n",
      "  otherwise |      Freq.     Percent        Cum.\n",
      "------------+-----------------------------------\n",
      "          0 |        217       99.09       99.09\n",
      "          1 |          2        0.91      100.00\n",
      "------------+-----------------------------------\n",
      "      Total |        219      100.00\n",
      "\n",
      ". list countryName iso3Code usExp gdp distanceKm tradeAgreement ///\n",
      ">       if tradeAgreement==1\n",
      "\n",
      "     +-------------------------------------------------------------------+\n",
      "     | countr~e   iso3Code       usExp         gdp   distan~m   tradeA~t |\n",
      "     |-------------------------------------------------------------------|\n",
      " 43. |    Chile        CHL   1.663e+10   2.606e+11   8079.282          1 |\n",
      "104. |   Jordan        JOR   2.052e+09   3.583e+10   9540.122          1 |\n",
      "     +-------------------------------------------------------------------+\n",
      "\n",
      ". \n"
     ]
    }
   ],
   "source": [
    "%%stata\n",
    "generate tradeAgreement = iso3Code==\"CHL\" |iso3Code== \"JOR\"\n",
    "label variable tradeAgreement \"=1 if USA has bilateral trade agreement, JOR & CHL only. =0 otherwise\"\n",
    "tab tradeAgreement\n",
    "list countryName iso3Code usExp gdp distanceKm tradeAgreement ///\n",
    "      if tradeAgreement==1"
   ]
  },
  {
   "cell_type": "markdown",
   "id": "0ec4028c",
   "metadata": {},
   "source": [
    "### Add indicator variable for shared border with Mexico and Canada"
   ]
  },
  {
   "cell_type": "code",
   "execution_count": 216,
   "id": "72787a4e",
   "metadata": {},
   "outputs": [
    {
     "name": "stdout",
     "output_type": "stream",
     "text": [
      "\n",
      ". generate sharedBorder = iso3Code ==\"CAN\" | iso3Code ==\"MEX\"\n",
      "\n",
      ". label variable sharedBorder \"Trading partner shares a land or small Water bor\n",
      "> der with USA\"\n",
      "\n",
      ". tab sharedBorder\n",
      "\n",
      "    Trading |\n",
      "    partner |\n",
      "   shares a |\n",
      "    land or |\n",
      "small Water |\n",
      "border with |\n",
      "        USA |      Freq.     Percent        Cum.\n",
      "------------+-----------------------------------\n",
      "          0 |        217       99.09       99.09\n",
      "          1 |          2        0.91      100.00\n",
      "------------+-----------------------------------\n",
      "      Total |        219      100.00\n",
      "\n",
      ". list countryName iso3Code usExp gdp distanceKm sharedBorder ///\n",
      ">       if sharedBorder==1\n",
      "\n",
      "     +-------------------------------------------------------------------+\n",
      "     | countr~e   iso3Code       usExp         gdp   distan~m   shared~r |\n",
      "     |-------------------------------------------------------------------|\n",
      " 38. |   Canada        CAN   3.121e+11   1.799e+12    733.894          1 |\n",
      "131. |   Mexico        MEX   2.403e+11   1.314e+12   3038.551          1 |\n",
      "     +-------------------------------------------------------------------+\n",
      "\n",
      ". \n"
     ]
    }
   ],
   "source": [
    "%%stata\n",
    "generate sharedBorder = iso3Code ==\"CAN\" | iso3Code ==\"MEX\"\n",
    "label variable sharedBorder \"Trading partner shares a land or small Water border with USA\"\n",
    "tab sharedBorder\n",
    "list countryName iso3Code usExp gdp distanceKm sharedBorder ///\n",
    "      if sharedBorder==1"
   ]
  },
  {
   "cell_type": "code",
   "execution_count": 217,
   "id": "dc3f0efe",
   "metadata": {},
   "outputs": [
    {
     "name": "stdout",
     "output_type": "stream",
     "text": [
      "\n",
      "file Data/gravityModelData.dta saved\n"
     ]
    }
   ],
   "source": [
    "%%stata\n",
    "save \"Data/gravityModelData\", replace"
   ]
  },
  {
   "cell_type": "code",
   "execution_count": 218,
   "id": "f9a97a41",
   "metadata": {},
   "outputs": [
    {
     "name": "stdout",
     "output_type": "stream",
     "text": [
      "  default    0 x 0\n",
      "  distUs     219 x 13; gravityModelData.dta\n",
      "* gdp2014    264 x 3\n",
      "* lang       152 x 6\n",
      "* usExports  219 x 4\n",
      "\n",
      "Note: Frames marked with * contain unsaved data.\n"
     ]
    }
   ],
   "source": [
    "%%stata\n",
    "frame dir"
   ]
  },
  {
   "cell_type": "code",
   "execution_count": 219,
   "id": "a5b31a10",
   "metadata": {},
   "outputs": [
    {
     "name": "stdout",
     "output_type": "stream",
     "text": [
      "\n",
      ". cwf default\n",
      "\n",
      ". frame drop distUs\n",
      "\n",
      ". frame drop gdp2014\n",
      "\n",
      ". frame drop lang\n",
      "\n",
      ". frame drop usExports\n",
      "\n",
      ". frame dir\n",
      "  default  0 x 0\n",
      "\n",
      ". \n"
     ]
    }
   ],
   "source": [
    "%%stata\n",
    "cwf default\n",
    "frame drop distUs\n",
    "frame drop gdp2014\n",
    "frame drop lang\n",
    "frame drop usExports\n",
    "frame dir"
   ]
  },
  {
   "cell_type": "code",
   "execution_count": 220,
   "id": "d9886301",
   "metadata": {},
   "outputs": [],
   "source": [
    "%%stata\n",
    "clear"
   ]
  },
  {
   "cell_type": "markdown",
   "id": "bddd04f4",
   "metadata": {},
   "source": [
    "# END DATA Prep"
   ]
  }
 ],
 "metadata": {
  "kernelspec": {
   "display_name": "Python 3",
   "language": "python",
   "name": "python3"
  },
  "language_info": {
   "codemirror_mode": {
    "name": "ipython",
    "version": 3
   },
   "file_extension": ".py",
   "mimetype": "text/x-python",
   "name": "python",
   "nbconvert_exporter": "python",
   "pygments_lexer": "ipython3",
   "version": "3.8.1"
  }
 },
 "nbformat": 4,
 "nbformat_minor": 5
}
