{
 "cells": [
  {
   "cell_type": "markdown",
   "id": "04085490",
   "metadata": {},
   "source": [
    "# Empirical Project I - US Exports Analysis using Gravity Model"
   ]
  },
  {
   "cell_type": "markdown",
   "id": "72f28f88",
   "metadata": {},
   "source": [
    "### Reference: \"The Gravity Mode of International Trade: A User Guide\". Ben Shepard. UN ESCAP 2012"
   ]
  },
  {
   "cell_type": "code",
   "execution_count": 1,
   "id": "0699a5f6",
   "metadata": {},
   "outputs": [
    {
     "name": "stdout",
     "output_type": "stream",
     "text": [
      "\n",
      "  ___  ____  ____  ____  ____ ©\n",
      " /__    /   ____/   /   ____/      17.0\n",
      "___/   /   /___/   /   /___/       BE—Basic Edition\n",
      "\n",
      " Statistics and Data Science       Copyright 1985-2021 StataCorp LLC\n",
      "                                   StataCorp\n",
      "                                   4905 Lakeway Drive\n",
      "                                   College Station, Texas 77845 USA\n",
      "                                   800-STATA-PC        https://www.stata.com\n",
      "                                   979-696-4600        stata@stata.com\n",
      "\n",
      "Stata license: Single-user  perpetual\n",
      "Serial number: 301706309873\n",
      "  Licensed to: Jon Holder\n",
      "               \n",
      "\n",
      "Notes:\n",
      "      1. Unicode is supported; see help unicode_advice.\n"
     ]
    }
   ],
   "source": [
    "import stata_setup\n",
    "stata_setup.config(\"/Applications/Stata 17\", \"be\")"
   ]
  },
  {
   "cell_type": "code",
   "execution_count": 2,
   "id": "db9caa26",
   "metadata": {},
   "outputs": [
    {
     "name": "stdout",
     "output_type": "stream",
     "text": [
      "COUNTRY.TXT                   language.txt\r\n",
      "ISO-PennCodes.xlsx            languages.xlsx\r\n",
      "contig.txt                    us_merch_exports_2014.xlsx\r\n",
      "dist.txt                      ~$ISO-PennCodes.xlsx\r\n",
      "distToUS.xlsx                 ~$gdpByCountry2014.xlsx\r\n",
      "gdpByCountry2014.xlsx         ~$gdpbycountry.xlsx\r\n",
      "gdpbycountry.xlsx             ~$us_merch_exports_2014.xlsx\r\n",
      "gravityModelData.dta\r\n"
     ]
    }
   ],
   "source": [
    "ls Data\\"
   ]
  },
  {
   "cell_type": "code",
   "execution_count": 3,
   "id": "429f4c24",
   "metadata": {},
   "outputs": [
    {
     "name": "stdout",
     "output_type": "stream",
     "text": [
      "\n",
      ". use gravityModelData, clear\n",
      "\n",
      ". describe\n",
      "\n",
      "Contains data from gravityModelData.dta\n",
      " Observations:           137                  \n",
      "    Variables:             9                  1 Jul 2021 22:27\n",
      "-------------------------------------------------------------------------------\n",
      "Variable      Storage   Display    Value\n",
      "    name         type    format    label      Variable label\n",
      "-------------------------------------------------------------------------------\n",
      "distanceKm      double  %10.0g                Distance between US Capital and\n",
      "                                                Trading Partner Capital (km)\n",
      "usTradingPart~r str20   %20s                  US Trading Partner\n",
      "iso3Code        str3    %9s                   ISO 3 Letter Country Code\n",
      "common_lang     float   %9.0g                 =1 if English is the country's\n",
      "                                                language\n",
      "usExp           double  %10.0g                Exports from the US to the\n",
      "                                                Trading Partner in USD\n",
      "gdp             double  %10.0g                Trading Partner's GDP in 2014\n",
      "ldist           float   %9.0g                 ln(distanceKm)\n",
      "lUsExp          float   %9.0g                 ln(usExp)\n",
      "lGdp            float   %9.0g                 ln(gdp)\n",
      "-------------------------------------------------------------------------------\n",
      "Sorted by: \n",
      "\n",
      ". \n"
     ]
    }
   ],
   "source": [
    "%%stata\n",
    "use gravityModelData, clear\n",
    "describe"
   ]
  },
  {
   "cell_type": "markdown",
   "id": "733e515e",
   "metadata": {},
   "source": [
    "Examine impact of the trade agreements\n",
    "* US-Jordan [JOR]. Agreement in place since 2001.\n",
    "* US-Chile [CHL]. Agreement in place since 2004."
   ]
  },
  {
   "cell_type": "code",
   "execution_count": 16,
   "id": "b0efc229",
   "metadata": {},
   "outputs": [
    {
     "name": "stdout",
     "output_type": "stream",
     "text": [
      "\n",
      ". generate tradeAgreement = 1 if usTradingPartner==\"Chile\" |usTradingPartner== \n",
      "> \"Jordan\"\n",
      "(135 missing values generated)\n",
      "\n",
      ". list usTradingPartner iso3Code usExp gdp distanceKm tradeAgreement ///\n",
      ">       if usTradingPartner==\"Chile\" |usTradingPartner== \"Jordan\"\n",
      "\n",
      "     +-------------------------------------------------------------------+\n",
      "     | usTrad~r   iso3Code       usExp         gdp   distan~m   tradeA~t |\n",
      "     |-------------------------------------------------------------------|\n",
      " 45. |    Chile        CHL   1.663e+10   2.606e+11   8079.282          1 |\n",
      " 61. |   Jordan        JOR   2.052e+09   3.583e+10   9540.122          1 |\n",
      "     +-------------------------------------------------------------------+\n",
      "\n",
      ". \n"
     ]
    }
   ],
   "source": [
    "%%stata\n",
    "generate tradeAgreement = 1 if usTradingPartner==\"Chile\" |usTradingPartner== \"Jordan\"\n",
    "list usTradingPartner iso3Code usExp gdp distanceKm tradeAgreement ///\n",
    "      if usTradingPartner==\"Chile\" |usTradingPartner== \"Jordan\""
   ]
  },
  {
   "cell_type": "code",
   "execution_count": 17,
   "id": "b244b531",
   "metadata": {},
   "outputs": [
    {
     "name": "stdout",
     "output_type": "stream",
     "text": [
      "\n",
      ". replace tradeAgreement = 0 if tradeAgreement==.\n",
      "(135 real changes made)\n",
      "\n",
      ". list usTradingPartner iso3Code usExp tradeAgreement in 1/5\n",
      "\n",
      "     +--------------------------------------------------+\n",
      "     | usTradingPar~r   iso3Code       usExp   tradeA~t |\n",
      "     |--------------------------------------------------|\n",
      "  1. |        Germany        GER   4.944e+10          0 |\n",
      "  2. |          Japan        JPN   6.696e+10          0 |\n",
      "  3. | United.Kingdom        GBR   5.387e+10          0 |\n",
      "  4. |         France        FRA   3.120e+10          0 |\n",
      "  5. |          Italy        ITA   1.699e+10          0 |\n",
      "     +--------------------------------------------------+\n",
      "\n",
      ". \n"
     ]
    }
   ],
   "source": [
    "%%stata\n",
    "replace tradeAgreement = 0 if tradeAgreement==.\n",
    "list usTradingPartner iso3Code usExp tradeAgreement in 1/5"
   ]
  },
  {
   "cell_type": "code",
   "execution_count": 19,
   "id": "0f626d56",
   "metadata": {},
   "outputs": [
    {
     "name": "stdout",
     "output_type": "stream",
     "text": [
      "file gravityModelData.dta saved\n"
     ]
    }
   ],
   "source": [
    "%%stata\n",
    "save gravityModelData, replace"
   ]
  },
  {
   "cell_type": "code",
   "execution_count": null,
   "id": "352fc6b8",
   "metadata": {},
   "outputs": [],
   "source": []
  }
 ],
 "metadata": {
  "kernelspec": {
   "display_name": "Python 3",
   "language": "python",
   "name": "python3"
  },
  "language_info": {
   "codemirror_mode": {
    "name": "ipython",
    "version": 3
   },
   "file_extension": ".py",
   "mimetype": "text/x-python",
   "name": "python",
   "nbconvert_exporter": "python",
   "pygments_lexer": "ipython3",
   "version": "3.8.1"
  }
 },
 "nbformat": 4,
 "nbformat_minor": 5
}
