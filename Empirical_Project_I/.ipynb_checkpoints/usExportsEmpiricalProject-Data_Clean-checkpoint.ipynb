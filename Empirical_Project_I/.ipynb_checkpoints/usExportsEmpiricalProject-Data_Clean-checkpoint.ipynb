{
 "cells": [
  {
   "cell_type": "code",
   "execution_count": 1,
   "id": "6b5a6fbf",
   "metadata": {},
   "outputs": [
    {
     "name": "stdout",
     "output_type": "stream",
     "text": [
      "\n",
      "  ___  ____  ____  ____  ____ ©\n",
      " /__    /   ____/   /   ____/      17.0\n",
      "___/   /   /___/   /   /___/       BE—Basic Edition\n",
      "\n",
      " Statistics and Data Science       Copyright 1985-2021 StataCorp LLC\n",
      "                                   StataCorp\n",
      "                                   4905 Lakeway Drive\n",
      "                                   College Station, Texas 77845 USA\n",
      "                                   800-STATA-PC        https://www.stata.com\n",
      "                                   979-696-4600        stata@stata.com\n",
      "\n",
      "Stata license: Single-user  perpetual\n",
      "Serial number: 301706309873\n",
      "  Licensed to: Jon Holder\n",
      "               \n",
      "\n",
      "Notes:\n",
      "      1. Unicode is supported; see help unicode_advice.\n"
     ]
    }
   ],
   "source": [
    "import stata_setup\n",
    "stata_setup.config(\"/Applications/Stata 17\", \"be\")"
   ]
  },
  {
   "cell_type": "code",
   "execution_count": 2,
   "id": "66959783",
   "metadata": {},
   "outputs": [],
   "source": [
    "%%stata\n",
    "frame create distUs\n",
    "cwf distUs"
   ]
  },
  {
   "cell_type": "code",
   "execution_count": 7,
   "id": "bb24b89c",
   "metadata": {},
   "outputs": [
    {
     "name": "stdout",
     "output_type": "stream",
     "text": [
      "\n",
      ". import excel \"Data/distToUS.xlsx\", sheet(\"Sheet1\") firstrow\n",
      "(2 vars, 136 obs)\n",
      "\n",
      ". describe\n",
      "\n",
      "Contains data\n",
      " Observations:           136                  \n",
      "    Variables:             2                  \n",
      "-------------------------------------------------------------------------------\n",
      "Variable      Storage   Display    Value\n",
      "    name         type    format    label      Variable label\n",
      "-------------------------------------------------------------------------------\n",
      "distanceKm      double  %10.0g                distanceKm\n",
      "Country2        str20   %20s                  Country2\n",
      "-------------------------------------------------------------------------------\n",
      "Sorted by: \n",
      "     Note: Dataset has changed since last saved.\n",
      "\n",
      ". \n"
     ]
    }
   ],
   "source": [
    "%%stata\n",
    "import excel \"Data/distToUS.xlsx\", sheet(\"Sheet1\") firstrow\n",
    "describe"
   ]
  },
  {
   "cell_type": "code",
   "execution_count": 9,
   "id": "c5fef5cb",
   "metadata": {},
   "outputs": [],
   "source": [
    "%%stata\n",
    "label variable distanceKm \"distance from USA Capital to Country2 Capital\""
   ]
  },
  {
   "cell_type": "code",
   "execution_count": 17,
   "id": "54794062",
   "metadata": {},
   "outputs": [
    {
     "name": "stdout",
     "output_type": "stream",
     "text": [
      "\n",
      ". frame create isoCodes\n",
      "\n",
      ". cwf isoCodes\n",
      "\n",
      ". import excel \"Data/ISO-PennCodes.xlsx\", sheet(\"Sheet1\") firstrow\n",
      "(9 vars, 271 obs)\n",
      "\n",
      ". describe\n",
      "\n",
      "Contains data\n",
      " Observations:           271                  \n",
      "    Variables:             9                  \n",
      "-------------------------------------------------------------------------------\n",
      "Variable      Storage   Display    Value\n",
      "    name         type    format    label      Variable label\n",
      "-------------------------------------------------------------------------------\n",
      "CountryName     str30   %30s                  CountryName\n",
      "ISO3Abbr        str3    %9s                   ISO3Abbr\n",
      "ISO3Code        int     %10.0g                ISO3Code\n",
      "WTDBCode        long    %10.0g                WTDBCode\n",
      "PennV5          int     %10.0g                PennV5\n",
      "PennV56         int     %10.0g                PennV5.6\n",
      "WorldBankCode   int     %10.0g                WorldBankCode\n",
      "CensusCode      int     %10.0g                CensusCode\n",
      "frietCountryN~e str30   %30s                  frietCountryName\n",
      "-------------------------------------------------------------------------------\n",
      "Sorted by: \n",
      "     Note: Dataset has changed since last saved.\n",
      "\n",
      ". \n"
     ]
    }
   ],
   "source": [
    "%%stata\n",
    "frame create isoCodes\n",
    "cwf isoCodes\n",
    "import excel \"Data/ISO-PennCodes.xlsx\", sheet(\"Sheet1\") firstrow\n",
    "drop if CountryName==\"\"\n",
    "drop if frietCountryName==\"\"\n",
    "describe"
   ]
  },
  {
   "cell_type": "code",
   "execution_count": 23,
   "id": "bf8796e3",
   "metadata": {},
   "outputs": [],
   "source": [
    "%stata cwf distUs"
   ]
  },
  {
   "cell_type": "markdown",
   "id": "ce20ac87",
   "metadata": {},
   "source": [
    "Link the ISO codes to the distances from capitals."
   ]
  },
  {
   "cell_type": "code",
   "execution_count": 24,
   "id": "940b9bd8",
   "metadata": {},
   "outputs": [
    {
     "name": "stdout",
     "output_type": "stream",
     "text": [
      "\n",
      ". frlink 1:1 Country2, frame(isoCodes frietCountryName)\n",
      "  (3 observations in frame distUs unmatched)\n",
      "\n",
      ". frget ISO3Abbr, from(isoCodes)\n",
      "(3 missing values generated)\n",
      "  (1 variable copied from linked frame)\n",
      "\n",
      ". \n"
     ]
    }
   ],
   "source": [
    "%%stata\n",
    "frlink 1:1 Country2, frame(isoCodes frietCountryName)\n",
    "frget ISO3Abbr, from(isoCodes)"
   ]
  },
  {
   "cell_type": "code",
   "execution_count": 25,
   "id": "d9e68139",
   "metadata": {},
   "outputs": [
    {
     "name": "stdout",
     "output_type": "stream",
     "text": [
      "\n",
      "     +--------------------------------------------------------+\n",
      "     | distanc~m               Country2   isoCodes   ISO3Abbr |\n",
      "     |--------------------------------------------------------|\n",
      " 22. |  7827.286                   USSR          .            |\n",
      "104. | 10518.971                  Zaire          .            |\n",
      "134. | 10195.633   Central.African.Repu          .            |\n",
      "     +--------------------------------------------------------+\n"
     ]
    }
   ],
   "source": [
    "%%stata\n",
    "list if ISO3Abbr==\"\""
   ]
  },
  {
   "cell_type": "code",
   "execution_count": 28,
   "id": "65f605d7",
   "metadata": {},
   "outputs": [
    {
     "name": "stdout",
     "output_type": "stream",
     "text": [
      "\n",
      ". replace ISO3Abbr = \"CAF\" if Country2 == \"Central.African.Repu\"\n",
      "(0 real changes made)\n",
      "\n",
      ". replace ISO3Abbr = \"COG\" if Country2 == \"Zaire\"\n",
      "(0 real changes made)\n",
      "\n",
      ". replace ISO3Abbr = \"RUS\" if Country2 == \"USSR\"\n",
      "(1 real change made)\n",
      "\n",
      ". \n"
     ]
    }
   ],
   "source": [
    "%%stata\n",
    "replace ISO3Abbr = \"CAF\" if Country2 == \"Central.African.Repu\"\n",
    "replace ISO3Abbr = \"COG\" if Country2 == \"Zaire\"\n",
    "replace ISO3Abbr = \"RUS\" if Country2 == \"USSR\""
   ]
  },
  {
   "cell_type": "markdown",
   "id": "3700997c",
   "metadata": {},
   "source": [
    "Country distances have been mapped to ISO-3 Country Codes."
   ]
  },
  {
   "cell_type": "markdown",
   "id": "7c12fe14",
   "metadata": {},
   "source": [
    "---"
   ]
  },
  {
   "cell_type": "code",
   "execution_count": 63,
   "id": "1fbc4e52",
   "metadata": {},
   "outputs": [
    {
     "name": "stdout",
     "output_type": "stream",
     "text": [
      "(3 missing values generated)\n",
      "  (1 variable copied from linked frame)\n"
     ]
    }
   ],
   "source": [
    "%%stata\n",
    "frget WTDBCode, from(isoCodes)"
   ]
  },
  {
   "cell_type": "code",
   "execution_count": 70,
   "id": "665cfc0e",
   "metadata": {},
   "outputs": [
    {
     "name": "stdout",
     "output_type": "stream",
     "text": [
      "\n",
      "     +-----------------------------------------------------------------+\n",
      " 22. | distanc~m |             Country2 | isoCodes | ISO3Abbr | PennV5 |\n",
      "     |  7827.286 |                 USSR |        . |      RUS |      . |\n",
      "     |-----------------------------------------------------------------|\n",
      "     |                            WTDBCode                             |\n",
      "     |                                   .                             |\n",
      "     +-----------------------------------------------------------------+\n",
      "\n",
      "     +-----------------------------------------------------------------+\n",
      "104. | distanc~m |             Country2 | isoCodes | ISO3Abbr | PennV5 |\n",
      "     | 10518.971 |                Zaire |        . |      COG |      . |\n",
      "     |-----------------------------------------------------------------|\n",
      "     |                            WTDBCode                             |\n",
      "     |                                   .                             |\n",
      "     +-----------------------------------------------------------------+\n",
      "\n",
      "     +-----------------------------------------------------------------+\n",
      "134. | distanc~m |             Country2 | isoCodes | ISO3Abbr | PennV5 |\n",
      "     | 10195.633 | Central.African.Repu |        . |      CAF |      . |\n",
      "     |-----------------------------------------------------------------|\n",
      "     |                            WTDBCode                             |\n",
      "     |                                   .                             |\n",
      "     +-----------------------------------------------------------------+\n"
     ]
    }
   ],
   "source": [
    "%%stata\n",
    "list if WTDBCode==."
   ]
  },
  {
   "cell_type": "code",
   "execution_count": 72,
   "id": "74da80f8",
   "metadata": {},
   "outputs": [
    {
     "name": "stdout",
     "output_type": "stream",
     "text": [
      "\n",
      ". replace WTDBCode = 9999999 if Country2 == \"Central.African.Repu\"\n",
      "(0 real changes made)\n",
      "\n",
      ". replace WTDBCode = 9999998 if Country2 == \"Zaire\"\n",
      "(1 real change made)\n",
      "\n",
      ". replace WTDBCode = 9999997 if Country2 == \"USSR\"\n",
      "(1 real change made)\n",
      "\n",
      ". \n"
     ]
    }
   ],
   "source": [
    "%%stata\n",
    "replace WTDBCode = 9999999 if Country2 == \"Central.African.Repu\"\n",
    "replace WTDBCode = 9999998 if Country2 == \"Zaire\"\n",
    "replace WTDBCode = 9999997 if Country2 == \"USSR\""
   ]
  },
  {
   "cell_type": "code",
   "execution_count": 34,
   "id": "9d253b03",
   "metadata": {},
   "outputs": [
    {
     "name": "stderr",
     "output_type": "stream",
     "text": [
      "Exception in thread Stata:\n",
      "Traceback (most recent call last):\n",
      "  File \"/Library/Frameworks/Python.framework/Versions/3.8/lib/python3.8/threading.py\", line 932, in _bootstrap_inner\n",
      "    self.run()\n",
      "  File \"/Applications/Stata 17/utilities/pystata/core/stout.py\", line 176, in run\n",
      "    raise SystemError(output)\n",
      "SystemError: \n",
      ". frame create lang\n",
      "\n",
      ". cwf lang\n",
      "\n",
      ". import excel \"Data/languages.xlsx\", sheet(\"Sheet1\") firstrow\n",
      "file Data/languages.xlsx not found\n",
      "r(601);\n",
      "r(601);\n",
      "\n"
     ]
    }
   ],
   "source": [
    "%%stata\n",
    "frame create lang\n",
    "cwf lang\n",
    "import excel \"Data/languages.xlsx\", sheet(\"Sheet1\") firstrow\n",
    "describe"
   ]
  },
  {
   "cell_type": "markdown",
   "id": "cb3a5fca",
   "metadata": {},
   "source": [
    "In the languages file, English == 5."
   ]
  },
  {
   "cell_type": "code",
   "execution_count": 57,
   "id": "b62cb4ff",
   "metadata": {},
   "outputs": [
    {
     "name": "stdout",
     "output_type": "stream",
     "text": [
      "\n",
      ". clear\n",
      "\n",
      ". import excel \"Data/languages.xlsx\", sheet(\"Sheet1\") firstrow\n",
      "(6 vars, 164 obs)\n",
      "\n",
      ". describe\n",
      "\n",
      "Contains data\n",
      " Observations:           164                  \n",
      "    Variables:             6                  \n",
      "-------------------------------------------------------------------------------\n",
      "Variable      Storage   Display    Value\n",
      "    name         type    format    label      Variable label\n",
      "-------------------------------------------------------------------------------\n",
      "gdpRank         int     %10.0g                gdpRank\n",
      "WTDBCode        long    %10.0g                WTDBCode\n",
      "pennV5          int     %10.0g                pennV5\n",
      "langCode        byte    %10.0g                langCode\n",
      "countryName     str16   %16s                  countryName\n",
      "langName        str14   %14s                  langName\n",
      "-------------------------------------------------------------------------------\n",
      "Sorted by: \n",
      "     Note: Dataset has changed since last saved.\n",
      "\n",
      ". gen common_lang = 1 if langCode==5\n",
      "(126 missing values generated)\n",
      "\n",
      ". list if common_lang == 1\n",
      "\n",
      "     +----------------------------------------------------------------------+\n",
      "  1. | gdpRank | WTDBCode | pennV5 | langCode |      countryName | langName |\n",
      "     |       1 |   218400 |     66 |        5 |              USA |  English |\n",
      "     |----------------------------------------------------------------------|\n",
      "     |                               common~g                               |\n",
      "     |                                      1                               |\n",
      "     +----------------------------------------------------------------------+\n",
      "\n",
      "     +----------------------------------------------------------------------+\n",
      "  4. | gdpRank | WTDBCode | pennV5 | langCode |      countryName | langName |\n",
      "     |       4 |   538260 |    129 |        5 |               UK |  English |\n",
      "     |----------------------------------------------------------------------|\n",
      "     |                               common~g                               |\n",
      "     |                                      1                               |\n",
      "     +----------------------------------------------------------------------+\n",
      "\n",
      "     +----------------------------------------------------------------------+\n",
      "  7. | gdpRank | WTDBCode | pennV5 | langCode |      countryName | langName |\n",
      "     |       7 |   211240 |     50 |        5 |           CANADA |  English |\n",
      "     |----------------------------------------------------------------------|\n",
      "     |                               common~g                               |\n",
      "     |                                      1                               |\n",
      "     +----------------------------------------------------------------------+\n",
      "\n",
      "     +----------------------------------------------------------------------+\n",
      " 10. | gdpRank | WTDBCode | pennV5 | langCode |      countryName | langName |\n",
      "     |      10 |   453440 |     84 |        5 |        HONG.KONG |  English |\n",
      "     |----------------------------------------------------------------------|\n",
      "     |                               common~g                               |\n",
      "     |                                      1                               |\n",
      "     +----------------------------------------------------------------------+\n",
      "\n",
      "     +----------------------------------------------------------------------+\n",
      " 21. | gdpRank | WTDBCode | pennV5 | langCode |      countryName | langName |\n",
      "     |      23 |   710360 |    131 |        5 |        AUSTRALIA |  English |\n",
      "     |----------------------------------------------------------------------|\n",
      "     |                               common~g                               |\n",
      "     |                                      1                               |\n",
      "     +----------------------------------------------------------------------+\n",
      "\n",
      "     +----------------------------------------------------------------------+\n",
      " 31. | gdpRank | WTDBCode | pennV5 | langCode |      countryName | langName |\n",
      "     |      33 |   533720 |    117 |        5 |          IRELAND |  English |\n",
      "     |----------------------------------------------------------------------|\n",
      "     |                               common~g                               |\n",
      "     |                                      1                               |\n",
      "     +----------------------------------------------------------------------+\n",
      "\n",
      "     +----------------------------------------------------------------------+\n",
      " 35. | gdpRank | WTDBCode | pennV5 | langCode |      countryName | langName |\n",
      "     |      37 |   456080 |     98 |        5 |      PHILIPPINES |  English |\n",
      "     |----------------------------------------------------------------------|\n",
      "     |                               common~g                               |\n",
      "     |                                      1                               |\n",
      "     +----------------------------------------------------------------------+\n",
      "\n",
      "     +----------------------------------------------------------------------+\n",
      " 38. | gdpRank | WTDBCode | pennV5 | langCode |      countryName | langName |\n",
      "     |      40 |   117100 |     38 |        5 |     SOUTH.AFRICA |  English |\n",
      "     |----------------------------------------------------------------------|\n",
      "     |                               common~g                               |\n",
      "     |                                      1                               |\n",
      "     +----------------------------------------------------------------------+\n",
      "\n",
      "     +----------------------------------------------------------------------+\n",
      " 39. | gdpRank | WTDBCode | pennV5 | langCode |      countryName | langName |\n",
      "     |      41 |   453560 |     85 |        5 |            INDIA |  English |\n",
      "     |----------------------------------------------------------------------|\n",
      "     |                               common~g                               |\n",
      "     |                                      1                               |\n",
      "     +----------------------------------------------------------------------+\n",
      "\n",
      "     +----------------------------------------------------------------------+\n",
      " 51. | gdpRank | WTDBCode | pennV5 | langCode |      countryName | langName |\n",
      "     |      53 |   715540 |    133 |        5 |      NEW.ZEALAND |  English |\n",
      "     |----------------------------------------------------------------------|\n",
      "     |                               common~g                               |\n",
      "     |                                      1                               |\n",
      "     +----------------------------------------------------------------------+\n",
      "\n",
      "     +----------------------------------------------------------------------+\n",
      " 55. | gdpRank | WTDBCode | pennV5 | langCode |      countryName | langName |\n",
      "     |      57 |   165660 |     32 |        5 |          NIGERIA |  English |\n",
      "     |----------------------------------------------------------------------|\n",
      "     |                               common~g                               |\n",
      "     |                                      1                               |\n",
      "     +----------------------------------------------------------------------+\n",
      "\n",
      "     +----------------------------------------------------------------------+\n",
      " 58. | gdpRank | WTDBCode | pennV5 | langCode |      countryName | langName |\n",
      "     |      60 |   164300 |     23 |        5 |          LIBERIA |  English |\n",
      "     |----------------------------------------------------------------------|\n",
      "     |                               common~g                               |\n",
      "     |                                      1                               |\n",
      "     +----------------------------------------------------------------------+\n",
      "\n",
      "     +----------------------------------------------------------------------+\n",
      " 73. | gdpRank | WTDBCode | pennV5 | langCode |      countryName | langName |\n",
      "     |      75 |   350440 |     48 |        5 |          BAHAMAS |  English |\n",
      "     |----------------------------------------------------------------------|\n",
      "     |                               common~g                               |\n",
      "     |                                      1                               |\n",
      "     +----------------------------------------------------------------------+\n",
      "\n",
      "     +----------------------------------------------------------------------+\n",
      " 76. | gdpRank | WTDBCode | pennV5 | langCode |      countryName | langName |\n",
      "     |      78 |   574700 |    120 |        5 |            MALTA |  English |\n",
      "     |----------------------------------------------------------------------|\n",
      "     |                               common~g                               |\n",
      "     |                                      1                               |\n",
      "     +----------------------------------------------------------------------+\n",
      "\n",
      "     +----------------------------------------------------------------------+\n",
      " 82. | gdpRank | WTDBCode | pennV5 | langCode |      countryName | langName |\n",
      "     |      84 |   353880 |     59 |        5 |          JAMAICA |  English |\n",
      "     |----------------------------------------------------------------------|\n",
      "     |                               common~g                               |\n",
      "     |                                      1                               |\n",
      "     +----------------------------------------------------------------------+\n",
      "\n",
      "     +----------------------------------------------------------------------+\n",
      " 89. | gdpRank | WTDBCode | pennV5 | langCode |      countryName | langName |\n",
      "     |      91 |   357800 |     65 |        5 |     TRINIDAD.TBG |  English |\n",
      "     |----------------------------------------------------------------------|\n",
      "     |                               common~g                               |\n",
      "     |                                      1                               |\n",
      "     +----------------------------------------------------------------------+\n",
      "\n",
      "     +----------------------------------------------------------------------+\n",
      " 91. | gdpRank | WTDBCode | pennV5 | langCode |      countryName | langName |\n",
      "     |      93 |   167160 |     47 |        5 |         ZIMBABWE |  English |\n",
      "     |----------------------------------------------------------------------|\n",
      "     |                               common~g                               |\n",
      "     |                                      1                               |\n",
      "     +----------------------------------------------------------------------+\n",
      "\n",
      "     +----------------------------------------------------------------------+\n",
      " 93. | gdpRank | WTDBCode | pennV5 | langCode |      countryName | langName |\n",
      "     |      95 |   162880 |     17 |        5 |            GHANA |  English |\n",
      "     |----------------------------------------------------------------------|\n",
      "     |                               common~g                               |\n",
      "     |                                      1                               |\n",
      "     +----------------------------------------------------------------------+\n",
      "\n",
      "     +----------------------------------------------------------------------+\n",
      " 97. | gdpRank | WTDBCode | pennV5 | langCode |      countryName | langName |\n",
      "     |      99 |   356580 |      0 |        5 |     ST.KITTS.NEV |  English |\n",
      "     |----------------------------------------------------------------------|\n",
      "     |                               common~g                               |\n",
      "     |                                      1                               |\n",
      "     +----------------------------------------------------------------------+\n",
      "\n",
      "     +----------------------------------------------------------------------+\n",
      " 98. | gdpRank | WTDBCode | pennV5 | langCode |      countryName | langName |\n",
      "     |     100 |   164040 |     21 |        5 |            KENYA |  English |\n",
      "     |----------------------------------------------------------------------|\n",
      "     |                               common~g                               |\n",
      "     |                                      1                               |\n",
      "     +----------------------------------------------------------------------+\n",
      "\n",
      "     +----------------------------------------------------------------------+\n",
      "101. | gdpRank | WTDBCode | pennV5 | langCode |      countryName | langName |\n",
      "     |     103 |   220600 |      0 |        5 |          BERMUDA |  English |\n",
      "     |----------------------------------------------------------------------|\n",
      "     |                               common~g                               |\n",
      "     |                                      1                               |\n",
      "     +----------------------------------------------------------------------+\n",
      "\n",
      "     +----------------------------------------------------------------------+\n",
      "102. | gdpRank | WTDBCode | pennV5 | langCode |      countryName | langName |\n",
      "     |     104 |   164800 |     28 |        5 |        MAURITIUS |  English |\n",
      "     |----------------------------------------------------------------------|\n",
      "     |                               common~g                               |\n",
      "     |                                      1                               |\n",
      "     +----------------------------------------------------------------------+\n",
      "\n",
      "     +----------------------------------------------------------------------+\n",
      "104. | gdpRank | WTDBCode | pennV5 | langCode |      countryName | langName |\n",
      "     |     106 |   168940 |     46 |        5 |           ZAMBIA |  English |\n",
      "     |----------------------------------------------------------------------|\n",
      "     |                               common~g                               |\n",
      "     |                                      1                               |\n",
      "     +----------------------------------------------------------------------+\n",
      "\n",
      "     +----------------------------------------------------------------------+\n",
      "113. | gdpRank | WTDBCode | pennV5 | langCode |      countryName | langName |\n",
      "     |     115 |   725980 |    134 |        5 |   PAPUA.N.GUINEA |  English |\n",
      "     |----------------------------------------------------------------------|\n",
      "     |                               common~g                               |\n",
      "     |                                      1                               |\n",
      "     +----------------------------------------------------------------------+\n",
      "\n",
      "     +----------------------------------------------------------------------+\n",
      "116. | gdpRank | WTDBCode | pennV5 | langCode |      countryName | langName |\n",
      "     |     119 |   350520 |     49 |        5 |         BARBADOS |  English |\n",
      "     |----------------------------------------------------------------------|\n",
      "     |                               common~g                               |\n",
      "     |                                      1                               |\n",
      "     +----------------------------------------------------------------------+\n",
      "\n",
      "     +----------------------------------------------------------------------+\n",
      "119. | gdpRank | WTDBCode | pennV5 | langCode |      countryName | langName |\n",
      "     |     122 |   351360 |      0 |        5 |     CAYMAN.ISLDS |  English |\n",
      "     |----------------------------------------------------------------------|\n",
      "     |                               common~g                               |\n",
      "     |                                      1                               |\n",
      "     +----------------------------------------------------------------------+\n",
      "\n",
      "     +----------------------------------------------------------------------+\n",
      "129. | gdpRank | WTDBCode | pennV5 | langCode |      countryName | langName |\n",
      "     |     132 |   363280 |     73 |        5 |           GUYANA |  English |\n",
      "     |----------------------------------------------------------------------|\n",
      "     |                               common~g                               |\n",
      "     |                                      1                               |\n",
      "     +----------------------------------------------------------------------+\n",
      "\n",
      "     +----------------------------------------------------------------------+\n",
      "130. | gdpRank | WTDBCode | pennV5 | langCode |      countryName | langName |\n",
      "     |     133 |   164540 |     25 |        5 |           MALAWI |  English |\n",
      "     |----------------------------------------------------------------------|\n",
      "     |                               common~g                               |\n",
      "     |                                      1                               |\n",
      "     +----------------------------------------------------------------------+\n",
      "\n",
      "     +----------------------------------------------------------------------+\n",
      "131. | gdpRank | WTDBCode | pennV5 | langCode |      countryName | langName |\n",
      "     |     134 |   722420 |    132 |        5 |             FIJI |  English |\n",
      "     |----------------------------------------------------------------------|\n",
      "     |                               common~g                               |\n",
      "     |                                      1                               |\n",
      "     +----------------------------------------------------------------------+\n",
      "\n",
      "     +----------------------------------------------------------------------+\n",
      "136. | gdpRank | WTDBCode | pennV5 | langCode |      countryName | langName |\n",
      "     |     139 |   360840 |      0 |        5 |           BELIZE |  English |\n",
      "     |----------------------------------------------------------------------|\n",
      "     |                               common~g                               |\n",
      "     |                                      1                               |\n",
      "     +----------------------------------------------------------------------+\n",
      "\n",
      "     +----------------------------------------------------------------------+\n",
      "139. | gdpRank | WTDBCode | pennV5 | langCode |      countryName | langName |\n",
      "     |     142 |   162700 |     16 |        5 |           GAMBIA |  English |\n",
      "     |----------------------------------------------------------------------|\n",
      "     |                               common~g                               |\n",
      "     |                                      1                               |\n",
      "     +----------------------------------------------------------------------+\n",
      "\n",
      "     +----------------------------------------------------------------------+\n",
      "141. | gdpRank | WTDBCode | pennV5 | langCode |      countryName | langName |\n",
      "     |     144 |   168000 |     44 |        5 |           UGANDA |  English |\n",
      "     |----------------------------------------------------------------------|\n",
      "     |                               common~g                               |\n",
      "     |                                      1                               |\n",
      "     +----------------------------------------------------------------------+\n",
      "\n",
      "     +----------------------------------------------------------------------+\n",
      "143. | gdpRank | WTDBCode | pennV5 | langCode |      countryName | langName |\n",
      "     |     146 |   166900 |     35 |        5 |       SEYCHELLES |  English |\n",
      "     |----------------------------------------------------------------------|\n",
      "     |                               common~g                               |\n",
      "     |                                      1                               |\n",
      "     +----------------------------------------------------------------------+\n",
      "\n",
      "     +----------------------------------------------------------------------+\n",
      "145. | gdpRank | WTDBCode | pennV5 | langCode |      countryName | langName |\n",
      "     |     148 |   722960 |      0 |        5 |         KIRIBATI |  English |\n",
      "     |----------------------------------------------------------------------|\n",
      "     |                               common~g                               |\n",
      "     |                                      1                               |\n",
      "     +----------------------------------------------------------------------+\n",
      "\n",
      "     +----------------------------------------------------------------------+\n",
      "147. | gdpRank | WTDBCode | pennV5 | langCode |      countryName | langName |\n",
      "     |     150 |   166940 |     36 |        5 |     SIERRA.LEONE |  English |\n",
      "     |----------------------------------------------------------------------|\n",
      "     |                               common~g                               |\n",
      "     |                                      1                               |\n",
      "     +----------------------------------------------------------------------+\n",
      "\n",
      "     +----------------------------------------------------------------------+\n",
      "148. | gdpRank | WTDBCode | pennV5 | langCode |      countryName | langName |\n",
      "     |     151 |   454620 |      0 |        5 |         MALDIVES |  English |\n",
      "     |----------------------------------------------------------------------|\n",
      "     |                               common~g                               |\n",
      "     |                                      1                               |\n",
      "     +----------------------------------------------------------------------+\n",
      "\n",
      "     +----------------------------------------------------------------------+\n",
      "155. | gdpRank | WTDBCode | pennV5 | langCode |      countryName | langName |\n",
      "     |     159 |   720900 |    135 |        5 |    SOLOMON.ISLDS |  English |\n",
      "     |----------------------------------------------------------------------|\n",
      "     |                               common~g                               |\n",
      "     |                                      1                               |\n",
      "     +----------------------------------------------------------------------+\n",
      "\n",
      "     +----------------------------------------------------------------------+\n",
      "158. | gdpRank | WTDBCode | pennV5 | langCode |      countryName | langName |\n",
      "     |     164 |   357960 |      0 |        5 | TURKS.CAICOS.ISL |  English |\n",
      "     |----------------------------------------------------------------------|\n",
      "     |                               common~g                               |\n",
      "     |                                      1                               |\n",
      "     +----------------------------------------------------------------------+\n",
      "\n",
      ". \n"
     ]
    }
   ],
   "source": [
    "%%stata\n",
    "gen common_lang = 1 if langCode==5\n",
    "list if common_lang == 1"
   ]
  },
  {
   "cell_type": "code",
   "execution_count": 74,
   "id": "e5ec5b83",
   "metadata": {},
   "outputs": [
    {
     "name": "stdout",
     "output_type": "stream",
     "text": [
      "\n",
      ". cwf distUs\n",
      "\n",
      ". describe\n",
      "\n",
      "Contains data\n",
      " Observations:           136                  \n",
      "    Variables:             6                  \n",
      "-------------------------------------------------------------------------------\n",
      "Variable      Storage   Display    Value\n",
      "    name         type    format    label      Variable label\n",
      "-------------------------------------------------------------------------------\n",
      "distanceKm      double  %10.0g                distance from USA Capital to\n",
      "                                                Country2 Capital\n",
      "Country2        str20   %20s                  Country2\n",
      "isoCodes        int     %10.0g                \n",
      "ISO3Abbr        str3    %9s                   ISO3Abbr\n",
      "PennV5          int     %10.0g                PennV5\n",
      "WTDBCode        long    %10.0g                WTDBCode\n",
      "-------------------------------------------------------------------------------\n",
      "Sorted by: \n",
      "     Note: Dataset has changed since last saved.\n",
      "\n",
      ". \n"
     ]
    }
   ],
   "source": [
    "%%stata\n",
    "cwf distUs\n",
    "frlink 1:1 WTDBCode, frame(lang)\n",
    "frget common_lang, from(lang)"
   ]
  },
  {
   "cell_type": "code",
   "execution_count": 83,
   "id": "f183f344",
   "metadata": {},
   "outputs": [
    {
     "name": "stdout",
     "output_type": "stream",
     "text": [
      "(105 real changes made)\n"
     ]
    }
   ],
   "source": [
    "%%stata\n",
    "replace common_lang=0 if common_lang==."
   ]
  },
  {
   "cell_type": "code",
   "execution_count": 84,
   "id": "106635b1",
   "metadata": {},
   "outputs": [
    {
     "name": "stdout",
     "output_type": "stream",
     "text": [
      "\n",
      "common_lang |      Freq.     Percent        Cum.\n",
      "------------+-----------------------------------\n",
      "          0 |        105       77.21       77.21\n",
      "          1 |         31       22.79      100.00\n",
      "------------+-----------------------------------\n",
      "      Total |        136      100.00\n"
     ]
    }
   ],
   "source": [
    "%%stata\n",
    "tab common_lang"
   ]
  },
  {
   "cell_type": "markdown",
   "id": "ab2fe083",
   "metadata": {},
   "source": [
    "Common language is added to the dataset."
   ]
  },
  {
   "cell_type": "markdown",
   "id": "664f7a02",
   "metadata": {},
   "source": [
    "---"
   ]
  },
  {
   "cell_type": "code",
   "execution_count": 85,
   "id": "93a0ca58",
   "metadata": {},
   "outputs": [
    {
     "name": "stdout",
     "output_type": "stream",
     "text": [
      "\n",
      "Contains data\n",
      " Observations:           136                  \n",
      "    Variables:             8                  \n",
      "-------------------------------------------------------------------------------\n",
      "Variable      Storage   Display    Value\n",
      "    name         type    format    label      Variable label\n",
      "-------------------------------------------------------------------------------\n",
      "distanceKm      double  %10.0g                distance from USA Capital to\n",
      "                                                Country2 Capital\n",
      "Country2        str20   %20s                  Country2\n",
      "isoCodes        int     %10.0g                \n",
      "ISO3Abbr        str3    %9s                   ISO3Abbr\n",
      "PennV5          int     %10.0g                PennV5\n",
      "WTDBCode        long    %10.0g                WTDBCode\n",
      "lang            int     %10.0g                \n",
      "common_lang     float   %9.0g                 \n",
      "-------------------------------------------------------------------------------\n",
      "Sorted by: \n",
      "     Note: Dataset has changed since last saved.\n"
     ]
    }
   ],
   "source": [
    "%%stata\n",
    "describe"
   ]
  },
  {
   "cell_type": "code",
   "execution_count": 87,
   "id": "8ef1f04d",
   "metadata": {},
   "outputs": [
    {
     "name": "stdout",
     "output_type": "stream",
     "text": [
      "\n",
      "     +-------------------------------------------------------+\n",
      "     |            Country2   ISO3Abbr   common~g   distanc~m |\n",
      "     |-------------------------------------------------------|\n",
      "  3. |      United.Kingdom        GBR          1    5904.034 |\n",
      "  6. |              Canada        CMR          1     733.894 |\n",
      "  9. |           Hong.Kong        HKG          1   13128.552 |\n",
      " 20. |           Australia        AUS          1   15958.048 |\n",
      " 30. |             Ireland        IRL          1    5448.428 |\n",
      "     |-------------------------------------------------------|\n",
      " 34. |         Phillipines        PHL          1   13792.935 |\n",
      " 37. |        South.Africa        ZAF          1   12723.319 |\n",
      " 38. |               India        IND          1   12051.454 |\n",
      " 50. |         New.Zealand        NZL          1   14097.807 |\n",
      " 54. |             Nigeria        NGA          1    8737.004 |\n",
      "     |-------------------------------------------------------|\n",
      " 57. |             Liberia        LBR          1    7535.679 |\n",
      " 67. |             Bahamas        BHS          1     1538.46 |\n",
      " 70. |               Malta        MLT          1    7728.808 |\n",
      " 75. |             Jamaica        JAM          1    2326.277 |\n",
      " 81. | Trinidad.And.Tobago        TTO          1    3501.089 |\n",
      "     |-------------------------------------------------------|\n",
      " 82. |            Zimbabwe        ZWE          1   12835.485 |\n",
      " 84. |               Ghana        GHA          1    8487.971 |\n",
      " 87. |               Kenya        KEN          1    12152.34 |\n",
      " 89. |           Mauritius        MUS          1   15224.496 |\n",
      " 91. |              Zambia        ZMB          1    12400.09 |\n",
      "     |-------------------------------------------------------|\n",
      " 98. |    Papua.New.Guinea        PNG          1   14559.934 |\n",
      "101. |            Barbados        BRB          1    3344.501 |\n",
      "112. |              Guyana        GUY          1    4043.371 |\n",
      "113. |              Malawi        MWI          1   12781.106 |\n",
      "114. |                Fiji        FJI          1   12511.104 |\n",
      "     |-------------------------------------------------------|\n",
      "118. |              Belize        BLZ          1    2669.844 |\n",
      "121. |              Gambia        GMB          1    6534.561 |\n",
      "123. |              Uganda        UGA          1   11678.979 |\n",
      "125. |          Seychelles        SYC          1   15095.282 |\n",
      "128. |        Sierra.Leone        SLE          1     7162.07 |\n",
      "     |-------------------------------------------------------|\n",
      "135. |     Solomon.Islands        SLB          1   13513.582 |\n",
      "     +-------------------------------------------------------+\n"
     ]
    }
   ],
   "source": [
    "%%stata\n",
    "list Country2 ISO3Abbr common_lang distanceKm if common_lang==1"
   ]
  },
  {
   "cell_type": "code",
   "execution_count": 88,
   "id": "e15e1af3",
   "metadata": {},
   "outputs": [
    {
     "name": "stderr",
     "output_type": "stream",
     "text": [
      "Exception in thread Stata:\n",
      "Traceback (most recent call last):\n",
      "  File \"/Library/Frameworks/Python.framework/Versions/3.8/lib/python3.8/threading.py\", line 932, in _bootstrap_inner\n",
      "    self.run()\n",
      "  File \"/Applications/Stata 17/utilities/pystata/core/stout.py\", line 176, in run\n",
      "    raise SystemError(output)\n",
      "SystemError: \n",
      ". frame create usExports\n",
      "\n",
      ". swf usExports\n",
      "command swf is unrecognized\n",
      "r(199);\n",
      "r(199);\n",
      "\n"
     ]
    }
   ],
   "source": [
    "%%stata\n",
    "frame create usExports\n",
    "cwf usExports\n",
    "import excel \"Data/us_merch_exports_2014.xlsx\", sheet(\"USEXPORTS\") firstrow\n",
    "describe"
   ]
  },
  {
   "cell_type": "markdown",
   "id": "beefdc62",
   "metadata": {},
   "source": [
    "**Check for duplicates or other data errors.**"
   ]
  },
  {
   "cell_type": "code",
   "execution_count": 111,
   "id": "79771018",
   "metadata": {},
   "outputs": [
    {
     "name": "stdout",
     "output_type": "stream",
     "text": [
      "\n",
      ". cwf usExports\n",
      "\n",
      ". duplicates tag ISOCODE, generate(dup)\n",
      "\n",
      "Duplicates in terms of ISOCODE\n",
      "\n",
      ". \n"
     ]
    }
   ],
   "source": [
    "%%stata\n",
    "cwf usExports\n",
    "duplicates tag ISOCODE, generate(dup)"
   ]
  },
  {
   "cell_type": "code",
   "execution_count": 113,
   "id": "8f11b208",
   "metadata": {},
   "outputs": [
    {
     "name": "stdout",
     "output_type": "stream",
     "text": [
      "\n",
      "     +--------------------------------------------+\n",
      "     |                          Country   ISOCODE |\n",
      "     |--------------------------------------------|\n",
      " 17. |                     Burkina Faso       BFA |\n",
      " 18. |                  Burma (Myanmar)       BFA |\n",
      " 69. | Micronesia (Federated States of)       FSM |\n",
      " 70. |      Falkland Islands (Malvinas)       FSM |\n",
      " 82. |                       Guadeloupe       GRD |\n",
      "     |--------------------------------------------|\n",
      " 83. |                          Grenada       GRD |\n",
      "214. |                     Saint Helena       WSM |\n",
      "215. |                            Samoa       WSM |\n",
      "     +--------------------------------------------+\n"
     ]
    }
   ],
   "source": [
    "%%stata\n",
    "list Country ISOCODE if dup==1"
   ]
  },
  {
   "cell_type": "markdown",
   "id": "9ea97cfc",
   "metadata": {},
   "source": [
    "Fix the incorrect ISO codes in the export data"
   ]
  },
  {
   "cell_type": "code",
   "execution_count": 114,
   "id": "6e6e02ae",
   "metadata": {},
   "outputs": [
    {
     "name": "stdout",
     "output_type": "stream",
     "text": [
      "\n",
      ". replace ISOCODE=\"MMR\" in 18\n",
      "(1 real change made)\n",
      "\n",
      ". replace ISOCODE=\"FLK\" in 70\n",
      "(1 real change made)\n",
      "\n",
      ". replace ISOCODE=\"GLP\" in 82\n",
      "(1 real change made)\n",
      "\n",
      ". replace ISOCODE=\"SHN\" in 214\n",
      "(1 real change made)\n",
      "\n",
      ". \n"
     ]
    }
   ],
   "source": [
    "%%stata\n",
    "replace ISOCODE=\"MMR\" in 18\n",
    "replace ISOCODE=\"FLK\" in 70\n",
    "replace ISOCODE=\"GLP\" in 82\n",
    "replace ISOCODE=\"SHN\" in 214"
   ]
  },
  {
   "cell_type": "code",
   "execution_count": 117,
   "id": "75b4075e",
   "metadata": {},
   "outputs": [
    {
     "name": "stdout",
     "output_type": "stream",
     "text": [
      "\n",
      "Duplicates in terms of ISOCODE\n",
      "\n",
      "  +-----------------------+\n",
      "  | Group   Obs   ISOCODE |\n",
      "  |-----------------------|\n",
      "  |     1    67       FLK |\n",
      "  |     1    70       FLK |\n",
      "  |     2   175       SHN |\n",
      "  |     2   214       SHN |\n",
      "  +-----------------------+\n"
     ]
    }
   ],
   "source": [
    "%%stata\n",
    "duplicates list ISOCODE"
   ]
  },
  {
   "cell_type": "code",
   "execution_count": 124,
   "id": "e70845cc",
   "metadata": {},
   "outputs": [
    {
     "name": "stdout",
     "output_type": "stream",
     "text": [
      "\n",
      "     +--------------------------------------------+\n",
      "     |                          Country   ISOCODE |\n",
      "     |--------------------------------------------|\n",
      " 67. |                    Faroe Islands       FLK |\n",
      " 68. |                           France       FRA |\n",
      " 69. | Micronesia (Federated States of)       FSM |\n",
      " 70. |      Falkland Islands (Malvinas)       FLK |\n",
      "     +--------------------------------------------+\n"
     ]
    }
   ],
   "source": [
    "%%stata\n",
    "list Country ISOCODE in 67/70"
   ]
  },
  {
   "cell_type": "code",
   "execution_count": 125,
   "id": "b21376d3",
   "metadata": {},
   "outputs": [
    {
     "name": "stdout",
     "output_type": "stream",
     "text": [
      "(1 real change made)\n"
     ]
    }
   ],
   "source": [
    "%%stata\n",
    "replace ISOCODE=\"FRO\" in 67"
   ]
  },
  {
   "cell_type": "code",
   "execution_count": 126,
   "id": "15b52e4a",
   "metadata": {},
   "outputs": [
    {
     "name": "stdout",
     "output_type": "stream",
     "text": [
      "\n",
      ". list Country ISOCODE in 175\n",
      "\n",
      "     +---------------------------------+\n",
      "     |               Country   ISOCODE |\n",
      "     |---------------------------------|\n",
      "175. | Saint Kitts and Nevis       SHN |\n",
      "     +---------------------------------+\n",
      "\n",
      ". list Country ISOCODE in 214\n",
      "\n",
      "     +------------------------+\n",
      "     |      Country   ISOCODE |\n",
      "     |------------------------|\n",
      "214. | Saint Helena       SHN |\n",
      "     +------------------------+\n",
      "\n",
      ". \n"
     ]
    }
   ],
   "source": [
    "%%stata\n",
    "list Country ISOCODE in 175\n",
    "list Country ISOCODE in 214"
   ]
  },
  {
   "cell_type": "code",
   "execution_count": 127,
   "id": "35a4c7ab",
   "metadata": {},
   "outputs": [
    {
     "name": "stdout",
     "output_type": "stream",
     "text": [
      "\n",
      ". replace ISOCODE=\"KNA\" in 175\n",
      "(1 real change made)\n",
      "\n",
      ". duplicates list ISOCODE\n",
      "\n",
      "Duplicates in terms of ISOCODE\n",
      "\n",
      "  +---------------+\n",
      "  | Obs   ISOCODE |\n",
      "  |---------------|\n",
      "  | 110       KNA |\n",
      "  | 175       KNA |\n",
      "  +---------------+\n",
      "\n",
      ". \n"
     ]
    }
   ],
   "source": [
    "%%stata\n",
    "replace ISOCODE=\"KNA\" in 175\n",
    "duplicates list ISOCODE"
   ]
  },
  {
   "cell_type": "code",
   "execution_count": 128,
   "id": "c75a45ff",
   "metadata": {},
   "outputs": [
    {
     "name": "stdout",
     "output_type": "stream",
     "text": [
      "\n",
      "     +-----------------------+\n",
      "     |     Country   ISOCODE |\n",
      "     |-----------------------|\n",
      "110. | Saint Lucia       KNA |\n",
      "     +-----------------------+\n"
     ]
    }
   ],
   "source": [
    "%%stata\n",
    "list Country ISOCODE in 110"
   ]
  },
  {
   "cell_type": "code",
   "execution_count": 129,
   "id": "91cc4af7",
   "metadata": {},
   "outputs": [
    {
     "name": "stdout",
     "output_type": "stream",
     "text": [
      "\n",
      ". replace ISOCODE=\"LCA\" in 110\n",
      "(1 real change made)\n",
      "\n",
      ". duplicates list ISOCODE\n",
      "\n",
      "Duplicates in terms of ISOCODE\n",
      "\n",
      "  +---------------+\n",
      "  | Obs   ISOCODE |\n",
      "  |---------------|\n",
      "  | 110       LCA |\n",
      "  | 117       LCA |\n",
      "  +---------------+\n",
      "\n",
      ". \n"
     ]
    }
   ],
   "source": [
    "%%stata\n",
    "replace ISOCODE=\"LCA\" in 110\n",
    "duplicates list ISOCODE"
   ]
  },
  {
   "cell_type": "code",
   "execution_count": 130,
   "id": "95ec1628",
   "metadata": {},
   "outputs": [
    {
     "name": "stdout",
     "output_type": "stream",
     "text": [
      "\n",
      "     +-------------------------------------+\n",
      "     |                   Country   ISOCODE |\n",
      "     |-------------------------------------|\n",
      "117. | Saint Pierre and Miquelon       LCA |\n",
      "     +-------------------------------------+\n"
     ]
    }
   ],
   "source": [
    "%%stata\n",
    "list Country ISOCODE in 117"
   ]
  },
  {
   "cell_type": "code",
   "execution_count": 131,
   "id": "f7c07791",
   "metadata": {},
   "outputs": [
    {
     "name": "stdout",
     "output_type": "stream",
     "text": [
      "\n",
      ". replace ISOCODE=\"SPM\" in 117\n",
      "(1 real change made)\n",
      "\n",
      ". duplicates list ISOCODE\n",
      "\n",
      "Duplicates in terms of ISOCODE\n",
      "\n",
      "(0 observations are duplicates)\n",
      "\n",
      ". \n"
     ]
    }
   ],
   "source": [
    "%%stata\n",
    "replace ISOCODE=\"SPM\" in 117\n",
    "duplicates list ISOCODE"
   ]
  },
  {
   "cell_type": "markdown",
   "id": "ed96322e",
   "metadata": {},
   "source": [
    "**All ISOCODE values are now unique**"
   ]
  },
  {
   "cell_type": "code",
   "execution_count": 132,
   "id": "23fcea7f",
   "metadata": {},
   "outputs": [
    {
     "name": "stdout",
     "output_type": "stream",
     "text": [
      "\n",
      ". cwf distUs\n",
      "\n",
      ". frlink 1:1 ISO3Abbr, frame(usExports ISOCODE)\n",
      "  (6 observations in frame distUs unmatched)\n",
      "\n",
      ". frget usExp=USEXP, from(usExports)\n",
      "(6 missing values generated)\n",
      "  (1 variable copied from linked frame)\n",
      "\n",
      ". \n"
     ]
    }
   ],
   "source": [
    "%%stata\n",
    "cwf distUs\n",
    "frlink 1:1 ISO3Abbr, frame(usExports ISOCODE)\n",
    "frget usExp=USEXP, from(usExports)"
   ]
  },
  {
   "cell_type": "code",
   "execution_count": 135,
   "id": "d89f90f4",
   "metadata": {},
   "outputs": [
    {
     "name": "stdout",
     "output_type": "stream",
     "text": [
      "\n",
      "     +---------------------------+\n",
      "     |       Country2   ISO3Abbr |\n",
      "     |---------------------------|\n",
      "  1. |        Germany        DEU |\n",
      " 10. |    Belgium-Lux        BLX |\n",
      " 26. |         Brazil        BAT |\n",
      " 40. |     Yugoslavia        SER |\n",
      " 44. | Czechoslovakia        CSK |\n",
      "     |---------------------------|\n",
      "103. |          Congo        ZAR |\n",
      "     +---------------------------+\n"
     ]
    }
   ],
   "source": [
    "%%stata\n",
    "list Country2 ISO3Abbr if usExp==."
   ]
  },
  {
   "cell_type": "markdown",
   "id": "a70f42e0",
   "metadata": {},
   "source": [
    "**NEED to correct more ISO codes usDist frame**"
   ]
  },
  {
   "cell_type": "code",
   "execution_count": 145,
   "id": "170429c0",
   "metadata": {},
   "outputs": [
    {
     "name": "stdout",
     "output_type": "stream",
     "text": [
      "\n",
      "     +-----------------------------+\n",
      "     | Country2   ISO3Abbr   usExp |\n",
      "     |-----------------------------|\n",
      " 26. |   Brazil        BAT       . |\n",
      "     +-----------------------------+\n"
     ]
    }
   ],
   "source": [
    "%%stata\n",
    "list Country2 ISO3Abbr usExp if Country2==\"Brazil\""
   ]
  },
  {
   "cell_type": "code",
   "execution_count": 147,
   "id": "db32eafd",
   "metadata": {},
   "outputs": [
    {
     "name": "stdout",
     "output_type": "stream",
     "text": [
      "\n",
      ". replace ISO3Abbr=\"BRA\" in 26\n",
      "(0 real changes made)\n",
      "\n",
      ". replace ISO3Abbr=\"GER\" in 1\n",
      "(1 real change made)\n",
      "\n",
      ". \n"
     ]
    }
   ],
   "source": [
    "%%stata\n",
    "replace ISO3Abbr=\"BRA\" in 26\n",
    "replace ISO3Abbr=\"GER\" in 1"
   ]
  },
  {
   "cell_type": "markdown",
   "id": "af3f807c",
   "metadata": {},
   "source": [
    "**Add new observation for just Belgium**"
   ]
  },
  {
   "cell_type": "code",
   "execution_count": 148,
   "id": "db2f1e2d",
   "metadata": {},
   "outputs": [
    {
     "name": "stdout",
     "output_type": "stream",
     "text": [
      "\n",
      ". insobs 1\n",
      "(1 observation added)\n",
      "\n",
      ". list Country2 if ISO3Abbr==\"\" \n",
      "\n",
      "     +----------+\n",
      "     | Country2 |\n",
      "     |----------|\n",
      "137. |          |\n",
      "     +----------+\n",
      "\n",
      ". \n"
     ]
    }
   ],
   "source": [
    "%%stata\n",
    "insobs 1\n",
    "list Country2 if ISO3Abbr==\"\" "
   ]
  },
  {
   "cell_type": "code",
   "execution_count": 149,
   "id": "59a8d7b5",
   "metadata": {},
   "outputs": [
    {
     "name": "stdout",
     "output_type": "stream",
     "text": [
      "\n",
      ". replace Country2=\"Belgium\" in 137\n",
      "(1 real change made)\n",
      "\n",
      ". replace ISO3Abbr=\"BEL\" in 137\n",
      "(1 real change made)\n",
      "\n",
      ". replace distanceKm=6230.393 in 137\n",
      "(1 real change made)\n",
      "\n",
      ". replace common_lang=0 in 137\n",
      "(1 real change made)\n",
      "\n",
      ". \n"
     ]
    }
   ],
   "source": [
    "%%stata\n",
    "replace Country2=\"Belgium\" in 137\n",
    "replace ISO3Abbr=\"BEL\" in 137\n",
    "replace distanceKm=6230.393 in 137\n",
    "replace common_lang=0 in 137"
   ]
  },
  {
   "cell_type": "code",
   "execution_count": 158,
   "id": "77a0b69b",
   "metadata": {},
   "outputs": [
    {
     "name": "stdout",
     "output_type": "stream",
     "text": [
      "\n",
      "rebuilding variable usExports; executing\n",
      "-------------------------------------------------------------------------------\n",
      "-> frlink 1:1 ISO3Abbr, frame(usExports ISOCODE)\n",
      "  (4 observations in frame distUs unmatched)\n",
      "-------------------------------------------------------------------------------\n",
      "variable usExports successfully rebuilt\n"
     ]
    }
   ],
   "source": [
    "%%stata\n",
    "frlink rebuild usExports"
   ]
  },
  {
   "cell_type": "code",
   "execution_count": 162,
   "id": "9271b5b0",
   "metadata": {},
   "outputs": [
    {
     "name": "stdout",
     "output_type": "stream",
     "text": [
      "  (2 frlink variables found)\n",
      "  -----------------------------------------------------------------------------\n",
      "  isoCodes created by frlink 1:1 Country2, frame(isoCodes frietCountryName)\n",
      "  -----------------------------------------------------------------------------\n",
      "  lang created by frlink 1:1 WTDBCode, frame(lang)\n",
      "  -----------------------------------------------------------------------------\n",
      "  Note: Type \"frlink describe varname\" to find out more, including whether\n",
      "  the variable is still valid.\n"
     ]
    }
   ],
   "source": [
    "%%stata\n",
    "frlink dir"
   ]
  },
  {
   "cell_type": "code",
   "execution_count": 163,
   "id": "89c86344",
   "metadata": {},
   "outputs": [
    {
     "name": "stdout",
     "output_type": "stream",
     "text": [
      "  (4 observations in frame distUs unmatched)\n"
     ]
    }
   ],
   "source": [
    "%%stata\n",
    "frlink 1:1 ISO3Abbr, frame(usExports ISOCODE)"
   ]
  },
  {
   "cell_type": "code",
   "execution_count": 164,
   "id": "fc8fc332",
   "metadata": {},
   "outputs": [
    {
     "name": "stdout",
     "output_type": "stream",
     "text": [
      "  (3 frlink variables found)\n",
      "  -----------------------------------------------------------------------------\n",
      "  isoCodes created by frlink 1:1 Country2, frame(isoCodes frietCountryName)\n",
      "  -----------------------------------------------------------------------------\n",
      "  lang created by frlink 1:1 WTDBCode, frame(lang)\n",
      "  -----------------------------------------------------------------------------\n",
      "  usExports created by frlink 1:1 ISO3Abbr, frame(usExports ISOCODE)\n",
      "  -----------------------------------------------------------------------------\n",
      "  Note: Type \"frlink describe varname\" to find out more, including whether\n",
      "  the variable is still valid.\n"
     ]
    }
   ],
   "source": [
    "%%stata\n",
    "frlink dir"
   ]
  },
  {
   "cell_type": "code",
   "execution_count": 159,
   "id": "3c3fe3d3",
   "metadata": {},
   "outputs": [
    {
     "name": "stderr",
     "output_type": "stream",
     "text": [
      "Exception in thread Stata:\n",
      "Traceback (most recent call last):\n",
      "  File \"/Library/Frameworks/Python.framework/Versions/3.8/lib/python3.8/threading.py\", line 932, in _bootstrap_inner\n",
      "    self.run()\n",
      "  File \"/Applications/Stata 17/utilities/pystata/core/stout.py\", line 176, in run\n",
      "    raise SystemError(output)\n",
      "SystemError: \n",
      ". drop usExp\n",
      "\n",
      ". frget usExp=USEXP, from(usExports)\n",
      "variable usExports not found\n",
      "(error in option from())\n",
      "r(111);\n",
      "r(111);\n",
      "\n"
     ]
    }
   ],
   "source": [
    "%%stata\n",
    "drop usExp\n",
    "frget usExp=USEXP, from(usExports)\n",
    "list Country2 ISO3Abbr if usExp==."
   ]
  },
  {
   "cell_type": "markdown",
   "id": "a83f0d17",
   "metadata": {},
   "source": [
    "**The export data is now in the usDist frame**"
   ]
  },
  {
   "cell_type": "code",
   "execution_count": 168,
   "id": "e39bd9c9",
   "metadata": {},
   "outputs": [
    {
     "name": "stdout",
     "output_type": "stream",
     "text": [
      "\n",
      ". frame create gdp2014\n",
      "\n",
      ". cwf gdp2014\n",
      "\n",
      ". \n"
     ]
    }
   ],
   "source": [
    "%%stata\n",
    "frame create gdp2014\n",
    "cwf gdp2014"
   ]
  },
  {
   "cell_type": "code",
   "execution_count": 170,
   "id": "95ffaa14",
   "metadata": {},
   "outputs": [
    {
     "name": "stdout",
     "output_type": "stream",
     "text": [
      "\n",
      ". import excel \"Data/gdpByCountry2014.xlsx\", sheet(\"Sheet1\") firstrow\n",
      "(2 vars, 264 obs)\n",
      "\n",
      ". describe\n",
      "\n",
      "Contains data\n",
      " Observations:           264                  \n",
      "    Variables:             2                  \n",
      "-------------------------------------------------------------------------------\n",
      "Variable      Storage   Display    Value\n",
      "    name         type    format    label      Variable label\n",
      "-------------------------------------------------------------------------------\n",
      "CountryCode     str3    %9s                   Country Code\n",
      "B               double  %10.0g                2014\n",
      "-------------------------------------------------------------------------------\n",
      "Sorted by: \n",
      "     Note: Dataset has changed since last saved.\n",
      "\n",
      ". \n"
     ]
    }
   ],
   "source": [
    "%%stata\n",
    "import excel \"Data/gdpByCountry2014.xlsx\", sheet(\"Sheet1\") firstrow\n",
    "describe\n",
    "duplicates list CountryCode"
   ]
  },
  {
   "cell_type": "code",
   "execution_count": 182,
   "id": "81601eec",
   "metadata": {},
   "outputs": [],
   "source": [
    "%%stata\n",
    "rename B gdp"
   ]
  },
  {
   "cell_type": "code",
   "execution_count": 176,
   "id": "674f08eb",
   "metadata": {},
   "outputs": [
    {
     "name": "stderr",
     "output_type": "stream",
     "text": [
      "Exception in thread Stata:\n",
      "Traceback (most recent call last):\n",
      "  File \"/Library/Frameworks/Python.framework/Versions/3.8/lib/python3.8/threading.py\", line 932, in _bootstrap_inner\n",
      "    self.run()\n",
      "  File \"/Applications/Stata 17/utilities/pystata/core/stout.py\", line 176, in run\n",
      "    raise SystemError(output)\n",
      "SystemError: \n",
      ". cwf distUs\n",
      "\n",
      ". frlink 1:1 ISO3Abbr, frame(gdp2014 CountryCode)\n",
      "  (8 observations in frame distUs unmatched)\n",
      "\n",
      ". frget gdp=B, from(gdp2014)\n",
      "(9 missing values generated)\n",
      "  (1 variable copied from linked frame)\n",
      "\n",
      ". list Country2 ISO3Abbr usExp if gdp=.\n",
      "=exp not allowed\n",
      "r(101);\n",
      "r(101);\n",
      "\n"
     ]
    }
   ],
   "source": [
    "%%stata\n",
    "cwf distUs\n",
    "frlink 1:1 ISO3Abbr, frame(gdp2014 CountryCode)\n",
    "frget gdp=B, from(gdp2014)\n",
    "list Country2 ISO3Abbr usExp if gdp==."
   ]
  },
  {
   "cell_type": "code",
   "execution_count": 177,
   "id": "380f861b",
   "metadata": {},
   "outputs": [
    {
     "name": "stdout",
     "output_type": "stream",
     "text": [
      "\n",
      "     +---------------------------------------------+\n",
      "     |             Country2   ISO3Abbr       usExp |\n",
      "     |---------------------------------------------|\n",
      "  1. |              Germany        GER   4.944e+10 |\n",
      " 10. |          Belgium-Lux        BLX           . |\n",
      " 15. |               Taiwan        TWN   2.684e+10 |\n",
      " 40. |           Yugoslavia        SER           . |\n",
      " 44. |       Czechoslovakia        CSK           . |\n",
      "     |---------------------------------------------|\n",
      " 53. |              Romania        ROM   9.776e+08 |\n",
      " 63. | Syrian.Arab.Republic        SYR     6794271 |\n",
      " 76. |      Reunion.Islands        REU    11066584 |\n",
      "103. |                Congo        ZAR           . |\n",
      "     +---------------------------------------------+\n"
     ]
    }
   ],
   "source": [
    "%%stata\n",
    "list Country2 ISO3Abbr usExp if gdp==."
   ]
  },
  {
   "cell_type": "code",
   "execution_count": 178,
   "id": "0716c433",
   "metadata": {},
   "outputs": [
    {
     "name": "stdout",
     "output_type": "stream",
     "text": [
      "\n",
      ". drop gdp\n",
      "\n",
      ". cwf gdp2014\n",
      "\n",
      ". \n"
     ]
    }
   ],
   "source": [
    "%%stata\n",
    "drop gdp\n",
    "cwf gdp2014"
   ]
  },
  {
   "cell_type": "code",
   "execution_count": 183,
   "id": "b930068c",
   "metadata": {},
   "outputs": [
    {
     "name": "stdout",
     "output_type": "stream",
     "text": [
      "\n",
      "     +----------------------+\n",
      "     | Countr~e         gdp |\n",
      "     |----------------------|\n",
      " 54. |      DEU   3.891e+12 |\n",
      "     +----------------------+\n"
     ]
    }
   ],
   "source": [
    "%%stata\n",
    "list CountryCode gdp if CountryCode==\"DEU\""
   ]
  },
  {
   "cell_type": "code",
   "execution_count": 184,
   "id": "cea38ab4",
   "metadata": {},
   "outputs": [
    {
     "name": "stdout",
     "output_type": "stream",
     "text": [
      "(1 real change made)\n"
     ]
    }
   ],
   "source": [
    "%%stata\n",
    "replace CountryCode=\"GER\" in 54"
   ]
  },
  {
   "cell_type": "code",
   "execution_count": 188,
   "id": "a57d410f",
   "metadata": {},
   "outputs": [
    {
     "name": "stdout",
     "output_type": "stream",
     "text": [
      "\n",
      ". cwf distUs\n",
      "\n",
      ". replace ISO3Abbr=\"ROU\" if ISO3Abbr==\"ROM\"\n",
      "(1 real change made)\n",
      "\n",
      ". \n"
     ]
    }
   ],
   "source": [
    "%%stata\n",
    "cwf distUs\n",
    "replace ISO3Abbr=\"ROU\" if ISO3Abbr==\"ROM\""
   ]
  },
  {
   "cell_type": "markdown",
   "id": "4406c908",
   "metadata": {},
   "source": [
    "**World Bank does not report GDP for Taiwan**"
   ]
  },
  {
   "cell_type": "markdown",
   "id": "0e389827",
   "metadata": {},
   "source": [
    "**No 2014 GDP data for Syria**.  Syria is a relatively small trading partner with the US in 2014."
   ]
  },
  {
   "cell_type": "markdown",
   "id": "baa334b0",
   "metadata": {},
   "source": [
    "**No 2014 GDP Data for Reunion Island** Syria is a relatively small trading partner with the US in 2014."
   ]
  },
  {
   "cell_type": "code",
   "execution_count": 191,
   "id": "fb5922fd",
   "metadata": {},
   "outputs": [
    {
     "name": "stdout",
     "output_type": "stream",
     "text": [
      "\n",
      "rebuilding variable gdp2014; executing\n",
      "-------------------------------------------------------------------------------\n",
      "-> frlink 1:1 ISO3Abbr, frame(gdp2014 CountryCode)\n",
      "  (6 observations in frame distUs unmatched)\n",
      "-------------------------------------------------------------------------------\n",
      "variable gdp2014 successfully rebuilt\n"
     ]
    }
   ],
   "source": [
    "%%stata\n",
    "frlink rebuild gdp2014"
   ]
  },
  {
   "cell_type": "code",
   "execution_count": 193,
   "id": "6ae6de76",
   "metadata": {},
   "outputs": [
    {
     "name": "stdout",
     "output_type": "stream",
     "text": [
      "\n",
      ". frget gdp=gdp, from(gdp2014)\n",
      "(7 missing values generated)\n",
      "  (1 variable copied from linked frame)\n",
      "\n",
      ". list Country2 ISO3Abbr usExp if gdp==.\n",
      "\n",
      "     +---------------------------------------------+\n",
      "     |             Country2   ISO3Abbr       usExp |\n",
      "     |---------------------------------------------|\n",
      " 10. |          Belgium-Lux        BLX           . |\n",
      " 15. |               Taiwan        TWN   2.684e+10 |\n",
      " 40. |           Yugoslavia        SER           . |\n",
      " 44. |       Czechoslovakia        CSK           . |\n",
      " 63. | Syrian.Arab.Republic        SYR     6794271 |\n",
      "     |---------------------------------------------|\n",
      " 76. |      Reunion.Islands        REU    11066584 |\n",
      "103. |                Congo        ZAR           . |\n",
      "     +---------------------------------------------+\n",
      "\n",
      ". \n"
     ]
    }
   ],
   "source": [
    "%%stata\n",
    "frget gdp=gdp, from(gdp2014)\n",
    "list Country2 ISO3Abbr usExp if gdp==."
   ]
  },
  {
   "cell_type": "code",
   "execution_count": null,
   "id": "7e292822",
   "metadata": {},
   "outputs": [],
   "source": []
  }
 ],
 "metadata": {
  "kernelspec": {
   "display_name": "Python 3",
   "language": "python",
   "name": "python3"
  },
  "language_info": {
   "codemirror_mode": {
    "name": "ipython",
    "version": 3
   },
   "file_extension": ".py",
   "mimetype": "text/x-python",
   "name": "python",
   "nbconvert_exporter": "python",
   "pygments_lexer": "ipython3",
   "version": "3.8.1"
  }
 },
 "nbformat": 4,
 "nbformat_minor": 5
}
